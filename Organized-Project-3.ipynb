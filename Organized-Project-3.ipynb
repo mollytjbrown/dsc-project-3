{
 "cells": [
  {
   "cell_type": "code",
   "execution_count": 1,
   "metadata": {},
   "outputs": [],
   "source": [
    "import pandas as pd\n",
    "import numpy as np\n",
    "import seaborn as sns\n",
    "import matplotlib.pyplot as plt\n",
    "%matplotlib inline\n",
    "from sklearn.linear_model import LinearRegression\n",
    "import scipy.stats as stats\n",
    "import math \n",
    "import statsmodels.api as sm\n",
    "from statsmodels.formula.api import ols\n",
    "from sklearn.feature_selection import RFE\n",
    "from sklearn.model_selection import train_test_split\n",
    "from sklearn.metrics import mean_squared_error\n",
    "from sklearn.model_selection import cross_val_score\n",
    "\n",
    "from sklearn.neighbors  import KNeighborsClassifier\n",
    "from sklearn.model_selection import GridSearchCV\n",
    "from sklearn.metrics import accuracy_score,confusion_matrix,roc_curve, auc, f1_score, classification_report\n",
    "import itertools\n",
    "sns.set(style='white')\n",
    "%matplotlib inline\n",
    "from sklearn.ensemble import ExtraTreesClassifier,RandomForestClassifier\n",
    "from sklearn.linear_model import LogisticRegression"
   ]
  },
  {
   "cell_type": "markdown",
   "metadata": {},
   "source": [
    "# Questions:\n",
    "- Can a model help to eliminate some human error when conducting a terry stop? Quick, efficient, effective. How can officer be held accountable to not base decision solely off of traffic stop? Pre-screen answer (yes, I do plan to arrest. why?)\n",
    "- Find previous terry stop examples and plug the data into the maching - did the machine work? Live PD?"
   ]
  },
  {
   "cell_type": "markdown",
   "metadata": {},
   "source": [
    "# Obtain"
   ]
  },
  {
   "cell_type": "code",
   "execution_count": 2,
   "metadata": {},
   "outputs": [
    {
     "data": {
      "text/html": [
       "<div>\n",
       "<style scoped>\n",
       "    .dataframe tbody tr th:only-of-type {\n",
       "        vertical-align: middle;\n",
       "    }\n",
       "\n",
       "    .dataframe tbody tr th {\n",
       "        vertical-align: top;\n",
       "    }\n",
       "\n",
       "    .dataframe thead th {\n",
       "        text-align: right;\n",
       "    }\n",
       "</style>\n",
       "<table border=\"1\" class=\"dataframe\">\n",
       "  <thead>\n",
       "    <tr style=\"text-align: right;\">\n",
       "      <th></th>\n",
       "      <th>Subject Age Group</th>\n",
       "      <th>Subject ID</th>\n",
       "      <th>GO / SC Num</th>\n",
       "      <th>Terry Stop ID</th>\n",
       "      <th>Stop Resolution</th>\n",
       "      <th>Weapon Type</th>\n",
       "      <th>Officer ID</th>\n",
       "      <th>Officer YOB</th>\n",
       "      <th>Officer Gender</th>\n",
       "      <th>Officer Race</th>\n",
       "      <th>...</th>\n",
       "      <th>Reported Time</th>\n",
       "      <th>Initial Call Type</th>\n",
       "      <th>Final Call Type</th>\n",
       "      <th>Call Type</th>\n",
       "      <th>Officer Squad</th>\n",
       "      <th>Arrest Flag</th>\n",
       "      <th>Frisk Flag</th>\n",
       "      <th>Precinct</th>\n",
       "      <th>Sector</th>\n",
       "      <th>Beat</th>\n",
       "    </tr>\n",
       "  </thead>\n",
       "  <tbody>\n",
       "    <tr>\n",
       "      <th>0</th>\n",
       "      <td>-</td>\n",
       "      <td>-1</td>\n",
       "      <td>20140000120677</td>\n",
       "      <td>92317</td>\n",
       "      <td>Arrest</td>\n",
       "      <td>None</td>\n",
       "      <td>7500</td>\n",
       "      <td>1984</td>\n",
       "      <td>M</td>\n",
       "      <td>Black or African American</td>\n",
       "      <td>...</td>\n",
       "      <td>11:32:00</td>\n",
       "      <td>-</td>\n",
       "      <td>-</td>\n",
       "      <td>-</td>\n",
       "      <td>SOUTH PCT 1ST W - ROBERT</td>\n",
       "      <td>N</td>\n",
       "      <td>N</td>\n",
       "      <td>South</td>\n",
       "      <td>O</td>\n",
       "      <td>O2</td>\n",
       "    </tr>\n",
       "    <tr>\n",
       "      <th>1</th>\n",
       "      <td>-</td>\n",
       "      <td>-1</td>\n",
       "      <td>20150000001463</td>\n",
       "      <td>28806</td>\n",
       "      <td>Field Contact</td>\n",
       "      <td>None</td>\n",
       "      <td>5670</td>\n",
       "      <td>1965</td>\n",
       "      <td>M</td>\n",
       "      <td>White</td>\n",
       "      <td>...</td>\n",
       "      <td>07:59:00</td>\n",
       "      <td>-</td>\n",
       "      <td>-</td>\n",
       "      <td>-</td>\n",
       "      <td>NaN</td>\n",
       "      <td>N</td>\n",
       "      <td>N</td>\n",
       "      <td>-</td>\n",
       "      <td>-</td>\n",
       "      <td>-</td>\n",
       "    </tr>\n",
       "    <tr>\n",
       "      <th>2</th>\n",
       "      <td>-</td>\n",
       "      <td>-1</td>\n",
       "      <td>20150000001516</td>\n",
       "      <td>29599</td>\n",
       "      <td>Field Contact</td>\n",
       "      <td>None</td>\n",
       "      <td>4844</td>\n",
       "      <td>1961</td>\n",
       "      <td>M</td>\n",
       "      <td>White</td>\n",
       "      <td>...</td>\n",
       "      <td>19:12:00</td>\n",
       "      <td>-</td>\n",
       "      <td>-</td>\n",
       "      <td>-</td>\n",
       "      <td>NaN</td>\n",
       "      <td>N</td>\n",
       "      <td>-</td>\n",
       "      <td>-</td>\n",
       "      <td>-</td>\n",
       "      <td>-</td>\n",
       "    </tr>\n",
       "    <tr>\n",
       "      <th>3</th>\n",
       "      <td>-</td>\n",
       "      <td>-1</td>\n",
       "      <td>20150000001670</td>\n",
       "      <td>32260</td>\n",
       "      <td>Field Contact</td>\n",
       "      <td>None</td>\n",
       "      <td>7539</td>\n",
       "      <td>1963</td>\n",
       "      <td>M</td>\n",
       "      <td>White</td>\n",
       "      <td>...</td>\n",
       "      <td>04:55:00</td>\n",
       "      <td>-</td>\n",
       "      <td>-</td>\n",
       "      <td>-</td>\n",
       "      <td>NaN</td>\n",
       "      <td>N</td>\n",
       "      <td>N</td>\n",
       "      <td>-</td>\n",
       "      <td>-</td>\n",
       "      <td>-</td>\n",
       "    </tr>\n",
       "    <tr>\n",
       "      <th>4</th>\n",
       "      <td>-</td>\n",
       "      <td>-1</td>\n",
       "      <td>20150000001739</td>\n",
       "      <td>33155</td>\n",
       "      <td>Field Contact</td>\n",
       "      <td>None</td>\n",
       "      <td>6973</td>\n",
       "      <td>1977</td>\n",
       "      <td>M</td>\n",
       "      <td>White</td>\n",
       "      <td>...</td>\n",
       "      <td>00:41:00</td>\n",
       "      <td>-</td>\n",
       "      <td>-</td>\n",
       "      <td>-</td>\n",
       "      <td>NaN</td>\n",
       "      <td>N</td>\n",
       "      <td>N</td>\n",
       "      <td>-</td>\n",
       "      <td>-</td>\n",
       "      <td>-</td>\n",
       "    </tr>\n",
       "  </tbody>\n",
       "</table>\n",
       "<p>5 rows × 23 columns</p>\n",
       "</div>"
      ],
      "text/plain": [
       "  Subject Age Group  Subject ID     GO / SC Num  Terry Stop ID  \\\n",
       "0                 -          -1  20140000120677          92317   \n",
       "1                 -          -1  20150000001463          28806   \n",
       "2                 -          -1  20150000001516          29599   \n",
       "3                 -          -1  20150000001670          32260   \n",
       "4                 -          -1  20150000001739          33155   \n",
       "\n",
       "  Stop Resolution Weapon Type Officer ID  Officer YOB Officer Gender  \\\n",
       "0          Arrest        None     7500           1984              M   \n",
       "1   Field Contact        None     5670           1965              M   \n",
       "2   Field Contact        None     4844           1961              M   \n",
       "3   Field Contact        None     7539           1963              M   \n",
       "4   Field Contact        None     6973           1977              M   \n",
       "\n",
       "                Officer Race  ... Reported Time Initial Call Type  \\\n",
       "0  Black or African American  ...      11:32:00                 -   \n",
       "1                      White  ...      07:59:00                 -   \n",
       "2                      White  ...      19:12:00                 -   \n",
       "3                      White  ...      04:55:00                 -   \n",
       "4                      White  ...      00:41:00                 -   \n",
       "\n",
       "  Final Call Type Call Type             Officer Squad Arrest Flag Frisk Flag  \\\n",
       "0               -         -  SOUTH PCT 1ST W - ROBERT           N          N   \n",
       "1               -         -                       NaN           N          N   \n",
       "2               -         -                       NaN           N          -   \n",
       "3               -         -                       NaN           N          N   \n",
       "4               -         -                       NaN           N          N   \n",
       "\n",
       "  Precinct  Sector    Beat  \n",
       "0    South  O       O2      \n",
       "1        -       -       -  \n",
       "2        -       -       -  \n",
       "3        -       -       -  \n",
       "4        -       -       -  \n",
       "\n",
       "[5 rows x 23 columns]"
      ]
     },
     "execution_count": 2,
     "metadata": {},
     "output_type": "execute_result"
    }
   ],
   "source": [
    "stops = pd.read_csv('/Users/molly/downloads/terry_stops.csv')\n",
    "stops.head()"
   ]
  },
  {
   "cell_type": "code",
   "execution_count": 3,
   "metadata": {},
   "outputs": [
    {
     "data": {
      "text/plain": [
       "(47055, 23)"
      ]
     },
     "execution_count": 3,
     "metadata": {},
     "output_type": "execute_result"
    }
   ],
   "source": [
    "stops.shape"
   ]
  },
  {
   "cell_type": "code",
   "execution_count": 4,
   "metadata": {},
   "outputs": [
    {
     "name": "stdout",
     "output_type": "stream",
     "text": [
      "<class 'pandas.core.frame.DataFrame'>\n",
      "RangeIndex: 47055 entries, 0 to 47054\n",
      "Data columns (total 23 columns):\n",
      " #   Column                    Non-Null Count  Dtype \n",
      "---  ------                    --------------  ----- \n",
      " 0   Subject Age Group         47055 non-null  object\n",
      " 1   Subject ID                47055 non-null  int64 \n",
      " 2   GO / SC Num               47055 non-null  int64 \n",
      " 3   Terry Stop ID             47055 non-null  int64 \n",
      " 4   Stop Resolution           47055 non-null  object\n",
      " 5   Weapon Type               47055 non-null  object\n",
      " 6   Officer ID                47055 non-null  object\n",
      " 7   Officer YOB               47055 non-null  int64 \n",
      " 8   Officer Gender            47055 non-null  object\n",
      " 9   Officer Race              47055 non-null  object\n",
      " 10  Subject Perceived Race    47055 non-null  object\n",
      " 11  Subject Perceived Gender  47055 non-null  object\n",
      " 12  Reported Date             47055 non-null  object\n",
      " 13  Reported Time             47055 non-null  object\n",
      " 14  Initial Call Type         47055 non-null  object\n",
      " 15  Final Call Type           47055 non-null  object\n",
      " 16  Call Type                 47055 non-null  object\n",
      " 17  Officer Squad             46451 non-null  object\n",
      " 18  Arrest Flag               47055 non-null  object\n",
      " 19  Frisk Flag                47055 non-null  object\n",
      " 20  Precinct                  47055 non-null  object\n",
      " 21  Sector                    47055 non-null  object\n",
      " 22  Beat                      47055 non-null  object\n",
      "dtypes: int64(4), object(19)\n",
      "memory usage: 8.3+ MB\n"
     ]
    }
   ],
   "source": [
    "stops.info()"
   ]
  },
  {
   "cell_type": "code",
   "execution_count": 5,
   "metadata": {},
   "outputs": [
    {
     "data": {
      "text/html": [
       "<div>\n",
       "<style scoped>\n",
       "    .dataframe tbody tr th:only-of-type {\n",
       "        vertical-align: middle;\n",
       "    }\n",
       "\n",
       "    .dataframe tbody tr th {\n",
       "        vertical-align: top;\n",
       "    }\n",
       "\n",
       "    .dataframe thead th {\n",
       "        text-align: right;\n",
       "    }\n",
       "</style>\n",
       "<table border=\"1\" class=\"dataframe\">\n",
       "  <thead>\n",
       "    <tr style=\"text-align: right;\">\n",
       "      <th></th>\n",
       "      <th>Subject ID</th>\n",
       "      <th>GO / SC Num</th>\n",
       "      <th>Terry Stop ID</th>\n",
       "      <th>Officer YOB</th>\n",
       "    </tr>\n",
       "  </thead>\n",
       "  <tbody>\n",
       "    <tr>\n",
       "      <th>count</th>\n",
       "      <td>4.705500e+04</td>\n",
       "      <td>4.705500e+04</td>\n",
       "      <td>4.705500e+04</td>\n",
       "      <td>47055.000000</td>\n",
       "    </tr>\n",
       "    <tr>\n",
       "      <th>mean</th>\n",
       "      <td>2.516630e+09</td>\n",
       "      <td>2.017587e+13</td>\n",
       "      <td>3.563128e+09</td>\n",
       "      <td>1982.944724</td>\n",
       "    </tr>\n",
       "    <tr>\n",
       "      <th>std</th>\n",
       "      <td>4.543835e+09</td>\n",
       "      <td>1.734325e+10</td>\n",
       "      <td>6.227849e+09</td>\n",
       "      <td>9.080075</td>\n",
       "    </tr>\n",
       "    <tr>\n",
       "      <th>min</th>\n",
       "      <td>-1.000000e+00</td>\n",
       "      <td>2.009000e+13</td>\n",
       "      <td>2.802000e+04</td>\n",
       "      <td>1900.000000</td>\n",
       "    </tr>\n",
       "    <tr>\n",
       "      <th>25%</th>\n",
       "      <td>-1.000000e+00</td>\n",
       "      <td>2.016000e+13</td>\n",
       "      <td>1.812635e+05</td>\n",
       "      <td>1978.000000</td>\n",
       "    </tr>\n",
       "    <tr>\n",
       "      <th>50%</th>\n",
       "      <td>-1.000000e+00</td>\n",
       "      <td>2.018000e+13</td>\n",
       "      <td>4.027170e+05</td>\n",
       "      <td>1985.000000</td>\n",
       "    </tr>\n",
       "    <tr>\n",
       "      <th>75%</th>\n",
       "      <td>7.725872e+09</td>\n",
       "      <td>2.019000e+13</td>\n",
       "      <td>8.301896e+09</td>\n",
       "      <td>1990.000000</td>\n",
       "    </tr>\n",
       "    <tr>\n",
       "      <th>max</th>\n",
       "      <td>2.273536e+10</td>\n",
       "      <td>2.021000e+13</td>\n",
       "      <td>2.275532e+10</td>\n",
       "      <td>1998.000000</td>\n",
       "    </tr>\n",
       "  </tbody>\n",
       "</table>\n",
       "</div>"
      ],
      "text/plain": [
       "         Subject ID   GO / SC Num  Terry Stop ID   Officer YOB\n",
       "count  4.705500e+04  4.705500e+04   4.705500e+04  47055.000000\n",
       "mean   2.516630e+09  2.017587e+13   3.563128e+09   1982.944724\n",
       "std    4.543835e+09  1.734325e+10   6.227849e+09      9.080075\n",
       "min   -1.000000e+00  2.009000e+13   2.802000e+04   1900.000000\n",
       "25%   -1.000000e+00  2.016000e+13   1.812635e+05   1978.000000\n",
       "50%   -1.000000e+00  2.018000e+13   4.027170e+05   1985.000000\n",
       "75%    7.725872e+09  2.019000e+13   8.301896e+09   1990.000000\n",
       "max    2.273536e+10  2.021000e+13   2.275532e+10   1998.000000"
      ]
     },
     "execution_count": 5,
     "metadata": {},
     "output_type": "execute_result"
    }
   ],
   "source": [
    "stops.describe()"
   ]
  },
  {
   "cell_type": "markdown",
   "metadata": {},
   "source": [
    "### Immediate observations: \n",
    "- 23 headings is a lot - how many can I get rid of initially? \n",
    "- most dtypes are objects, not many integers\n",
    "- almost all are non-null (exception: officer squad)\n",
    "- minimum year of birth is seemingly too old: when did data start being recorded?  \n",
    "- the other integers aren't interesting "
   ]
  },
  {
   "cell_type": "markdown",
   "metadata": {},
   "source": [
    "# Scrub"
   ]
  },
  {
   "cell_type": "markdown",
   "metadata": {},
   "source": [
    "## 1. Subject Age Group"
   ]
  },
  {
   "cell_type": "code",
   "execution_count": 6,
   "metadata": {},
   "outputs": [
    {
     "name": "stdout",
     "output_type": "stream",
     "text": [
      "Subject Age Group\n",
      "-                1540\n",
      "1 - 17           1975\n",
      "18 - 25          9424\n",
      "26 - 35         15645\n",
      "36 - 45          9958\n",
      "46 - 55          6088\n",
      "56 and Above     2386\n",
      "Name: Terry Stop ID, dtype: int64\n"
     ]
    }
   ],
   "source": [
    "# to count unique Subject Age Group Values\n",
    "print(stops.groupby('Subject Age Group')['Terry Stop ID'].nunique())"
   ]
  },
  {
   "cell_type": "markdown",
   "metadata": {},
   "source": [
    "#### Subject Age Group Key: \n",
    "1. 1 - 17 \n",
    "2. 18 - 25\n",
    "3. 26 - 35\n",
    "4. 36 - 45\n",
    "5. 46 - 55\n",
    "7. 55 - 74 "
   ]
  },
  {
   "cell_type": "code",
   "execution_count": 7,
   "metadata": {},
   "outputs": [],
   "source": [
    "# to change Subject Age Group to an integer, I will replace each value with a numerical variable 1-5 (key above): \n",
    "#to replace object values with integer values 1-6 \n",
    "stops['Subject Age Group'].replace('1 - 17',1,inplace=True)\n",
    "stops['Subject Age Group'].replace('18 - 25',2,inplace=True)\n",
    "stops['Subject Age Group'].replace('26 - 35',3,inplace=True)\n",
    "stops['Subject Age Group'].replace('36 - 45',4,inplace=True)\n",
    "stops['Subject Age Group'].replace('46 - 55',5,inplace=True)\n",
    "stops['Subject Age Group'].replace('56 and Above',6,inplace=True)\n",
    "\n",
    "#to change values of \"-\" in subject age group to 26-35 \n",
    "stops['Subject Age Group'].replace('-',1,inplace=True)\n",
    "\n",
    "#to convert Subject Age Group to a dtype of integer \n",
    "stops['Subject Age Group'] = stops['Subject Age Group'].astype(int)"
   ]
  },
  {
   "cell_type": "code",
   "execution_count": 8,
   "metadata": {},
   "outputs": [
    {
     "data": {
      "image/png": "[encoded data removed]",
      "text/plain": [
       "<Figure size 432x288 with 1 Axes>"
      ]
     },
     "metadata": {
      "needs_background": "light"
     },
     "output_type": "display_data"
    }
   ],
   "source": [
    "plt.hist(stops['Subject Age Group'])\n",
    "plt.show()"
   ]
  },
  {
   "cell_type": "code",
   "execution_count": 9,
   "metadata": {},
   "outputs": [
    {
     "data": {
      "image/png": "[encoded data removed]",
      "text/plain": [
       "<Figure size 432x288 with 1 Axes>"
      ]
     },
     "metadata": {
      "needs_background": "light"
     },
     "output_type": "display_data"
    }
   ],
   "source": [
    "plt.boxplot(stops['Subject Age Group'])\n",
    "plt.show()"
   ]
  },
  {
   "cell_type": "markdown",
   "metadata": {},
   "source": [
    "## 2. Subject I.D."
   ]
  },
  {
   "cell_type": "code",
   "execution_count": 10,
   "metadata": {},
   "outputs": [
    {
     "name": "stdout",
     "output_type": "stream",
     "text": [
      "Subject ID\n",
      "-1              34761\n",
      " 7704448659         1\n",
      " 7704448966         1\n",
      " 7704461371         1\n",
      " 7704462099         1\n",
      "                ...  \n",
      " 22610447033        1\n",
      " 22626518671        1\n",
      " 22690356047        1\n",
      " 22720811395        1\n",
      " 22735359602        1\n",
      "Name: Terry Stop ID, Length: 9078, dtype: int64\n"
     ]
    }
   ],
   "source": [
    "# to count unique Subject I.D Values\n",
    "print(stops.groupby('Subject ID')['Terry Stop ID'].nunique())"
   ]
  },
  {
   "cell_type": "markdown",
   "metadata": {},
   "source": [
    "Many of the subject IDs are listed as -1. To me, this may be a useless column. According to the website, the ID are:\n",
    "Key, generated daily, identifying unique subjects in the dataset using a character to character match of first name and last name. \"Null\" values indicate an \"anonymous\" or \"unidentified\" subject. Subjects of a Terry Stop are not required to present identification.\n",
    "\n",
    "I believe that it would be safe to drop this column, as Subject I.Ds are not dependant on any defining factors. "
   ]
  },
  {
   "cell_type": "code",
   "execution_count": 11,
   "metadata": {},
   "outputs": [],
   "source": [
    "#to drop Subject ID: \n",
    "stops = stops.drop(columns=['Subject ID'])"
   ]
  },
  {
   "cell_type": "markdown",
   "metadata": {},
   "source": [
    "## 3. GO / SC Num:\n",
    "According to the website, the GO/SC Num is: \n",
    "General Offense or Street Check number, relating the Terry Stop to the parent report. This field may have a one to many relationship in the data\n",
    "\n",
    "This description is nonsensical to me as it stands. I am going to further investigate the data to see if it will begin to make sense. \n"
   ]
  },
  {
   "cell_type": "code",
   "execution_count": 12,
   "metadata": {},
   "outputs": [
    {
     "name": "stdout",
     "output_type": "stream",
     "text": [
      "GO / SC Num\n",
      "20090000228667    3\n",
      "20100000074003    1\n",
      "20110000363140    1\n",
      "20120000210981    1\n",
      "20120000271417    1\n",
      "                 ..\n",
      "20210000085680    1\n",
      "20210000085705    1\n",
      "20210000085724    1\n",
      "20210000086052    1\n",
      "20210000086119    1\n",
      "Name: Terry Stop ID, Length: 36898, dtype: int64\n"
     ]
    }
   ],
   "source": [
    "# to count unique Subject I.D Values\n",
    "print(stops.groupby('GO / SC Num')['Terry Stop ID'].nunique())"
   ]
  },
  {
   "cell_type": "code",
   "execution_count": 13,
   "metadata": {},
   "outputs": [
    {
     "data": {
      "text/plain": [
       "0    20140000120677\n",
       "1    20150000001463\n",
       "2    20150000001516\n",
       "3    20150000001670\n",
       "4    20150000001739\n",
       "5    20150000001755\n",
       "6    20150000002351\n",
       "7    20150000002363\n",
       "8    20150000002392\n",
       "9    20150000002451\n",
       "Name: GO / SC Num, dtype: int64"
      ]
     },
     "execution_count": 13,
     "metadata": {},
     "output_type": "execute_result"
    }
   ],
   "source": [
    "stops['GO / SC Num'].head(10)"
   ]
  },
  {
   "cell_type": "markdown",
   "metadata": {},
   "source": [
    "I believe the first four digts in the string are the year recorded. I am going to eliminate this column. "
   ]
  },
  {
   "cell_type": "code",
   "execution_count": 14,
   "metadata": {},
   "outputs": [],
   "source": [
    "#to drop Subject ID: \n",
    "stops = stops.drop(columns=['GO / SC Num'])"
   ]
  },
  {
   "cell_type": "markdown",
   "metadata": {},
   "source": [
    "## 4. Terry Stop ID:"
   ]
  },
  {
   "cell_type": "markdown",
   "metadata": {},
   "source": [
    "## 5. Stop Resolution:"
   ]
  },
  {
   "cell_type": "code",
   "execution_count": 15,
   "metadata": {},
   "outputs": [
    {
     "name": "stdout",
     "output_type": "stream",
     "text": [
      "Stop Resolution\n",
      "Arrest                      11590\n",
      "Citation / Infraction         178\n",
      "Field Contact               18914\n",
      "Offense Report              15606\n",
      "Referred for Prosecution      728\n",
      "Name: Terry Stop ID, dtype: int64\n"
     ]
    }
   ],
   "source": [
    "# to count unique Stop Resolution Values\n",
    "print(stops.groupby('Stop Resolution')['Terry Stop ID'].nunique())"
   ]
  },
  {
   "cell_type": "code",
   "execution_count": 16,
   "metadata": {},
   "outputs": [],
   "source": [
    "#to divide data into arrest(1) vs. no arrest(0):\n",
    "stops['Stop Resolution'] = stops['Stop Resolution'].map(lambda x: 1 if x == \"Arrest\" else 0)\n",
    "#stops.drop('Stop Resolution', axis = 1, inplace = True)"
   ]
  },
  {
   "cell_type": "code",
   "execution_count": 17,
   "metadata": {},
   "outputs": [
    {
     "name": "stdout",
     "output_type": "stream",
     "text": [
      "Stop Resolution\n",
      "0    35426\n",
      "1    11590\n",
      "Name: Terry Stop ID, dtype: int64\n"
     ]
    }
   ],
   "source": [
    "#check: \n",
    "# to count unique Subject I.D Values\n",
    "print(stops.groupby('Stop Resolution')['Terry Stop ID'].nunique())"
   ]
  },
  {
   "cell_type": "code",
   "execution_count": 18,
   "metadata": {},
   "outputs": [
    {
     "data": {
      "image/png": "[encoded data removed]",
      "text/plain": [
       "<Figure size 432x288 with 1 Axes>"
      ]
     },
     "metadata": {
      "needs_background": "light"
     },
     "output_type": "display_data"
    }
   ],
   "source": [
    "plt.hist(stops['Stop Resolution'])\n",
    "plt.show()"
   ]
  },
  {
   "cell_type": "markdown",
   "metadata": {},
   "source": [
    "As I moved further along, I noticed that arrest already had a category: arrest flag. The data is not identical, but I am going to assume the arrest flag data is more accurate in arrest flag and drop arrest for stops2. "
   ]
  },
  {
   "cell_type": "markdown",
   "metadata": {},
   "source": [
    "## 6. Weapon Type:"
   ]
  },
  {
   "cell_type": "code",
   "execution_count": 19,
   "metadata": {},
   "outputs": [
    {
     "name": "stdout",
     "output_type": "stream",
     "text": [
      "Weapon Type\n",
      "-                                       11711\n",
      "Automatic Handgun                           2\n",
      "Blackjack                                   1\n",
      "Blunt Object/Striking Implement            84\n",
      "Brass Knuckles                              1\n",
      "Club                                        9\n",
      "Club, Blackjack, Brass Knuckles            49\n",
      "Fire/Incendiary Device                      6\n",
      "Firearm                                    36\n",
      "Firearm (unk type)                         15\n",
      "Firearm Other                             100\n",
      "Handgun                                   291\n",
      "Knife/Cutting/Stabbing Instrument         623\n",
      "Lethal Cutting Instrument                1482\n",
      "Mace/Pepper Spray                          28\n",
      "None                                    32565\n",
      "None/Not Applicable                         7\n",
      "Other Firearm                              23\n",
      "Personal Weapons (hands, feet, etc.)        2\n",
      "Rifle                                       7\n",
      "Shotgun                                     3\n",
      "Taser/Stun Gun                             10\n",
      "Name: Terry Stop ID, dtype: int64\n"
     ]
    }
   ],
   "source": [
    "# to count unique Weapon Type Values\n",
    "print(stops.groupby('Weapon Type')['Terry Stop ID'].nunique())"
   ]
  },
  {
   "cell_type": "code",
   "execution_count": 20,
   "metadata": {},
   "outputs": [],
   "source": [
    "# to split Weapon Type into None(0), Firearm(1), or Other(2): \n",
    "\n",
    "#to replace \"-\" with 0: \n",
    "stops['Weapon Type'].replace('-',0,inplace=True)\n",
    "\n",
    "#to replace \"None\", \"None/Not Applicable\" with 0:\n",
    "stops['Weapon Type'].replace('None',0,inplace=True)\n",
    "stops['Weapon Type'].replace('None/Not Applicable',0,inplace=True)\n",
    "\n",
    "#to replace \"Automatic Handgun\", \"Firearm\", \"Firearm (unk type)\", \"Firearm Other\", \"Handgun\", \"Other Firearm\"\n",
    "#\"Rifle\", and \"Shotgun\" with 1: \n",
    "stops['Weapon Type'].replace('Automatic Handgun',1,inplace=True)\n",
    "stops['Weapon Type'].replace('Firearm',1,inplace=True)\n",
    "stops['Weapon Type'].replace('Firearm (unk type)',1,inplace=True)\n",
    "stops['Weapon Type'].replace('Firearm Other',1,inplace=True)\n",
    "stops['Weapon Type'].replace('Handgun',1,inplace=True)\n",
    "stops['Weapon Type'].replace('Other Firearm',1,inplace=True)\n",
    "stops['Weapon Type'].replace('Rifle',1,inplace=True)\n",
    "stops['Weapon Type'].replace('Shotgun',1,inplace=True)\n",
    "\n",
    "#to replace the remaining weapon types with 1: \n",
    "stops['Weapon Type'].replace('Blackjack',1,inplace=True)\n",
    "stops['Weapon Type'].replace('Blunt Object/Striking Implement',1,inplace=True)\n",
    "stops['Weapon Type'].replace('Brass Knuckles',1,inplace=True)\n",
    "stops['Weapon Type'].replace('Club',1,inplace=True)\n",
    "stops['Weapon Type'].replace('Club, Blackjack, Brass Knuckles',1,inplace=True)\n",
    "stops['Weapon Type'].replace('Fire/Incendiary Device',1,inplace=True)\n",
    "stops['Weapon Type'].replace('Knife/Cutting/Stabbing Instrument',1,inplace=True)\n",
    "stops['Weapon Type'].replace('Lethal Cutting Instrument',1,inplace=True)\n",
    "stops['Weapon Type'].replace('Mace/Pepper Spray',1,inplace=True)\n",
    "stops['Weapon Type'].replace('Personal Weapons (hands, feet, etc.)',1,inplace=True)\n",
    "stops['Weapon Type'].replace('Taser/Stun Gun',1,inplace=True)"
   ]
  },
  {
   "cell_type": "code",
   "execution_count": 21,
   "metadata": {},
   "outputs": [
    {
     "name": "stdout",
     "output_type": "stream",
     "text": [
      "Weapon Type\n",
      "0    44283\n",
      "1     2733\n",
      "Name: Terry Stop ID, dtype: int64\n"
     ]
    }
   ],
   "source": [
    "#Check: \n",
    "print(stops.groupby('Weapon Type')['Terry Stop ID'].nunique())"
   ]
  },
  {
   "cell_type": "code",
   "execution_count": 22,
   "metadata": {},
   "outputs": [
    {
     "data": {
      "image/png": "[encoded data removed]",
      "text/plain": [
       "<Figure size 432x288 with 1 Axes>"
      ]
     },
     "metadata": {
      "needs_background": "light"
     },
     "output_type": "display_data"
    }
   ],
   "source": [
    "plt.hist(stops['Weapon Type'])\n",
    "plt.show()"
   ]
  },
  {
   "cell_type": "markdown",
   "metadata": {},
   "source": [
    "## 7. Officer ID: "
   ]
  },
  {
   "cell_type": "code",
   "execution_count": 23,
   "metadata": {},
   "outputs": [
    {
     "data": {
      "text/plain": [
       "0    7500  \n",
       "1    5670  \n",
       "2    4844  \n",
       "3    7539  \n",
       "4    6973  \n",
       "5    7402  \n",
       "6    7591  \n",
       "7    7591  \n",
       "8    7560  \n",
       "9    7591  \n",
       "Name: Officer ID, dtype: object"
      ]
     },
     "execution_count": 23,
     "metadata": {},
     "output_type": "execute_result"
    }
   ],
   "source": [
    "stops['Officer ID'].head(10)"
   ]
  },
  {
   "cell_type": "code",
   "execution_count": 24,
   "metadata": {},
   "outputs": [],
   "source": [
    "#dropping officer ID for lack of use: \n",
    "stops = stops.drop(columns=['Officer ID'])"
   ]
  },
  {
   "cell_type": "markdown",
   "metadata": {},
   "source": [
    "## 8. Officer YOB"
   ]
  },
  {
   "cell_type": "code",
   "execution_count": 25,
   "metadata": {},
   "outputs": [
    {
     "name": "stdout",
     "output_type": "stream",
     "text": [
      "Officer YOB\n",
      "1900      35\n",
      "1946       2\n",
      "1948      11\n",
      "1949       5\n",
      "1951       1\n",
      "1952       9\n",
      "1953      33\n",
      "1954      44\n",
      "1955      21\n",
      "1956      17\n",
      "1957      43\n",
      "1958     219\n",
      "1959     174\n",
      "1960     161\n",
      "1961     214\n",
      "1962     456\n",
      "1963     260\n",
      "1964     428\n",
      "1965     419\n",
      "1966     223\n",
      "1967     710\n",
      "1968     628\n",
      "1969     542\n",
      "1970     599\n",
      "1971    1226\n",
      "1972     426\n",
      "1973     921\n",
      "1974     556\n",
      "1975     531\n",
      "1976    1021\n",
      "1977    1009\n",
      "1978    1154\n",
      "1979    1521\n",
      "1980     808\n",
      "1981    1429\n",
      "1982    1847\n",
      "1983    1719\n",
      "1984    2745\n",
      "1985    2487\n",
      "1986    3299\n",
      "1987    2999\n",
      "1988    2115\n",
      "1989    1990\n",
      "1990    2231\n",
      "1991    2695\n",
      "1992    2441\n",
      "1993    1464\n",
      "1994     909\n",
      "1995    1152\n",
      "1996     647\n",
      "1997     399\n",
      "1998      21\n",
      "Name: Terry Stop ID, dtype: int64\n"
     ]
    }
   ],
   "source": [
    "# to count unique Officer YOB Values\n",
    "print(stops.groupby('Officer YOB')['Terry Stop ID'].nunique())"
   ]
  },
  {
   "cell_type": "code",
   "execution_count": 26,
   "metadata": {},
   "outputs": [
    {
     "data": {
      "text/plain": [
       "count    47055.000000\n",
       "mean      1982.944724\n",
       "std          9.080075\n",
       "min       1900.000000\n",
       "25%       1978.000000\n",
       "50%       1985.000000\n",
       "75%       1990.000000\n",
       "max       1998.000000\n",
       "Name: Officer YOB, dtype: float64"
      ]
     },
     "execution_count": 26,
     "metadata": {},
     "output_type": "execute_result"
    }
   ],
   "source": [
    "stops['Officer YOB'].describe()"
   ]
  },
  {
   "cell_type": "code",
   "execution_count": 27,
   "metadata": {},
   "outputs": [],
   "source": [
    "#replacing the 1900 data points (which must be a recording error) with the median of 1985\n",
    "stops['Officer YOB'].replace(1900, 1985, inplace=True)"
   ]
  },
  {
   "cell_type": "code",
   "execution_count": 28,
   "metadata": {},
   "outputs": [
    {
     "data": {
      "image/png": "[encoded data removed]",
      "text/plain": [
       "<Figure size 432x288 with 1 Axes>"
      ]
     },
     "metadata": {
      "needs_background": "light"
     },
     "output_type": "display_data"
    }
   ],
   "source": [
    "plt.hist(stops['Officer YOB'])\n",
    "plt.show()"
   ]
  },
  {
   "cell_type": "code",
   "execution_count": 29,
   "metadata": {},
   "outputs": [
    {
     "data": {
      "text/plain": [
       "count    47055.000000\n",
       "mean      1983.007948\n",
       "std          8.793720\n",
       "min       1946.000000\n",
       "25%       1978.000000\n",
       "50%       1985.000000\n",
       "75%       1990.000000\n",
       "max       1998.000000\n",
       "Name: Officer YOB, dtype: float64"
      ]
     },
     "execution_count": 29,
     "metadata": {},
     "output_type": "execute_result"
    }
   ],
   "source": [
    "stops['Officer YOB'].describe()"
   ]
  },
  {
   "cell_type": "code",
   "execution_count": 30,
   "metadata": {},
   "outputs": [
    {
     "data": {
      "image/png": "[encoded data removed]",
      "text/plain": [
       "<Figure size 432x288 with 1 Axes>"
      ]
     },
     "metadata": {
      "needs_background": "light"
     },
     "output_type": "display_data"
    }
   ],
   "source": [
    "plt.boxplot(stops['Officer YOB'])\n",
    "plt.show()"
   ]
  },
  {
   "cell_type": "code",
   "execution_count": 31,
   "metadata": {},
   "outputs": [],
   "source": [
    "stops2 = stops\n",
    "stops2 = stops2[stops2['Officer YOB'] > 1963]"
   ]
  },
  {
   "cell_type": "code",
   "execution_count": 32,
   "metadata": {},
   "outputs": [
    {
     "data": {
      "text/plain": [
       "array([1984, 1965, 1977, 1973, 1985, 1986, 1964, 1979, 1981, 1969, 1983,\n",
       "       1966, 1968, 1987, 1970, 1976, 1972, 1982, 1991, 1988, 1971, 1978,\n",
       "       1990, 1975, 1967, 1992, 1980, 1989, 1974, 1994, 1993, 1996, 1995,\n",
       "       1997, 1998])"
      ]
     },
     "execution_count": 32,
     "metadata": {},
     "output_type": "execute_result"
    }
   ],
   "source": [
    "stops2['Officer YOB'].unique()"
   ]
  },
  {
   "cell_type": "code",
   "execution_count": 33,
   "metadata": {},
   "outputs": [
    {
     "data": {
      "text/plain": [
       "count    45385.000000\n",
       "mean      1983.850127\n",
       "std          7.739693\n",
       "min       1964.000000\n",
       "25%       1979.000000\n",
       "50%       1985.000000\n",
       "75%       1990.000000\n",
       "max       1998.000000\n",
       "Name: Officer YOB, dtype: float64"
      ]
     },
     "execution_count": 33,
     "metadata": {},
     "output_type": "execute_result"
    }
   ],
   "source": [
    "stops2['Officer YOB'].describe()"
   ]
  },
  {
   "cell_type": "code",
   "execution_count": 34,
   "metadata": {},
   "outputs": [
    {
     "data": {
      "image/png": "[encoded data removed]",
      "text/plain": [
       "<Figure size 432x288 with 1 Axes>"
      ]
     },
     "metadata": {
      "needs_background": "light"
     },
     "output_type": "display_data"
    }
   ],
   "source": [
    "plt.boxplot(stops2['Officer YOB'])\n",
    "plt.show()"
   ]
  },
  {
   "cell_type": "markdown",
   "metadata": {},
   "source": [
    "## 9. Officer Gender:"
   ]
  },
  {
   "cell_type": "code",
   "execution_count": 35,
   "metadata": {},
   "outputs": [
    {
     "name": "stdout",
     "output_type": "stream",
     "text": [
      "Officer Gender\n",
      "F     5378\n",
      "M    41609\n",
      "N       29\n",
      "Name: Terry Stop ID, dtype: int64\n"
     ]
    }
   ],
   "source": [
    "# to count unique Officer Gender Values\n",
    "print(stops.groupby('Officer Gender')['Terry Stop ID'].nunique())"
   ]
  },
  {
   "cell_type": "code",
   "execution_count": 36,
   "metadata": {},
   "outputs": [
    {
     "data": {
      "image/png": "[encoded data removed]",
      "text/plain": [
       "<Figure size 432x288 with 1 Axes>"
      ]
     },
     "metadata": {
      "needs_background": "light"
     },
     "output_type": "display_data"
    }
   ],
   "source": [
    "stops['Officer Male'] = stops['Officer Gender'].map(lambda x: 0 if x == 'F' else 1)\n",
    "stops.drop('Officer Gender', axis = 1, inplace = True)\n",
    "plt.hist(stops['Officer Male'])\n",
    "plt.show()"
   ]
  },
  {
   "cell_type": "markdown",
   "metadata": {},
   "source": [
    "## 10. Officer Race:"
   ]
  },
  {
   "cell_type": "code",
   "execution_count": 37,
   "metadata": {},
   "outputs": [
    {
     "name": "stdout",
     "output_type": "stream",
     "text": [
      "Officer Race\n",
      "American Indian/Alaska Native      317\n",
      "Asian                             2013\n",
      "Black or African American         1873\n",
      "Hispanic or Latino                2727\n",
      "Nat Hawaiian/Oth Pac Islander      454\n",
      "Not Specified                     1449\n",
      "Two or More Races                 2634\n",
      "Unknown                             35\n",
      "White                            35514\n",
      "Name: Terry Stop ID, dtype: int64\n"
     ]
    }
   ],
   "source": [
    "# to count unique Officer Gender Values\n",
    "print(stops.groupby('Officer Race')['Terry Stop ID'].nunique())"
   ]
  },
  {
   "cell_type": "code",
   "execution_count": 38,
   "metadata": {},
   "outputs": [
    {
     "data": {
      "image/png": "[encoded data removed]",
      "text/plain": [
       "<Figure size 432x288 with 1 Axes>"
      ]
     },
     "metadata": {
      "needs_background": "light"
     },
     "output_type": "display_data"
    }
   ],
   "source": [
    "plt.hist(stops['Officer Race'])\n",
    "plt.show()"
   ]
  },
  {
   "cell_type": "code",
   "execution_count": 39,
   "metadata": {},
   "outputs": [],
   "source": [
    "#create numerical values for white (0), or other (1)\n",
    "#to replace white with 0\n",
    "stops['Officer Race'].replace('White',0,inplace=True)\n",
    "\n",
    "#to replace other with 1 \n",
    "stops['Officer Race'].replace('Asian',1,inplace=True)\n",
    "stops['Officer Race'].replace('Black or African American',1,inplace=True)\n",
    "stops['Officer Race'].replace('Hispanic or Latino',1,inplace=True)\n",
    "stops['Officer Race'].replace('Nat Hawaiian/Oth Pac Islander',1,inplace=True)\n",
    "stops['Officer Race'].replace('Not Specified',1,inplace=True)\n",
    "stops['Officer Race'].replace('Two or More Races',1,inplace=True)\n",
    "stops['Officer Race'].replace('Unknown',1,inplace=True)\n",
    "stops['Officer Race'].replace('American Indian/Alaska Native',1,inplace=True)"
   ]
  },
  {
   "cell_type": "code",
   "execution_count": 40,
   "metadata": {},
   "outputs": [
    {
     "name": "stdout",
     "output_type": "stream",
     "text": [
      "Officer Race\n",
      "0    35514\n",
      "1    11502\n",
      "Name: Terry Stop ID, dtype: int64\n"
     ]
    }
   ],
   "source": [
    "print(stops.groupby('Officer Race')['Terry Stop ID'].nunique())"
   ]
  },
  {
   "cell_type": "code",
   "execution_count": 41,
   "metadata": {},
   "outputs": [
    {
     "data": {
      "image/png": "[encoded data removed]",
      "text/plain": [
       "<Figure size 432x288 with 1 Axes>"
      ]
     },
     "metadata": {
      "needs_background": "light"
     },
     "output_type": "display_data"
    }
   ],
   "source": [
    "plt.hist(stops['Officer Race'])\n",
    "plt.show()"
   ]
  },
  {
   "cell_type": "markdown",
   "metadata": {},
   "source": [
    "## 11. Subject Perceived Race: "
   ]
  },
  {
   "cell_type": "code",
   "execution_count": 42,
   "metadata": {},
   "outputs": [
    {
     "name": "stdout",
     "output_type": "stream",
     "text": [
      "Subject Perceived Race\n",
      "-                                             1892\n",
      "American Indian or Alaska Native              1351\n",
      "Asian                                         1526\n",
      "Black or African American                    13985\n",
      "Hispanic                                      1684\n",
      "Multi-Racial                                   809\n",
      "Native Hawaiian or Other Pacific Islander       54\n",
      "Other                                          152\n",
      "Unknown                                       2605\n",
      "White                                        22958\n",
      "Name: Terry Stop ID, dtype: int64\n"
     ]
    }
   ],
   "source": [
    "# to count unique Subject Perceived Race Values\n",
    "print(stops.groupby('Subject Perceived Race')['Terry Stop ID'].nunique())"
   ]
  },
  {
   "cell_type": "code",
   "execution_count": 43,
   "metadata": {},
   "outputs": [
    {
     "data": {
      "image/png": "[encoded data removed]",
      "text/plain": [
       "<Figure size 432x288 with 1 Axes>"
      ]
     },
     "metadata": {
      "needs_background": "light"
     },
     "output_type": "display_data"
    }
   ],
   "source": [
    "plt.hist(stops['Subject Perceived Race'])\n",
    "plt.show()"
   ]
  },
  {
   "cell_type": "code",
   "execution_count": 44,
   "metadata": {},
   "outputs": [],
   "source": [
    "#create numerical values for white (0), black or AA (1), or other (2)\n",
    "#to replace white with 0\n",
    "stops['Subject Perceived Race'].replace('White',0,inplace=True)\n",
    "\n",
    "#to replace Black or African American with 1 \n",
    "stops['Subject Perceived Race'].replace('Black or African American',1,inplace=True)\n",
    "\n",
    "#to replace all other races with 2\n",
    "stops['Subject Perceived Race'].replace('American Indian or Alaska Native',1,inplace=True)\n",
    "stops['Subject Perceived Race'].replace('Asian',1,inplace=True)\n",
    "stops['Subject Perceived Race'].replace('Hispanic',1,inplace=True)\n",
    "stops['Subject Perceived Race'].replace('Multi-Racial',1,inplace=True)\n",
    "stops['Subject Perceived Race'].replace('Native Hawaiian or Other Pacific Islander',1,inplace=True)\n",
    "stops['Subject Perceived Race'].replace('Other',1,inplace=True)\n",
    "stops['Subject Perceived Race'].replace('Unknown',1,inplace=True)\n",
    "stops['Subject Perceived Race'].replace('-',1,inplace=True)\n"
   ]
  },
  {
   "cell_type": "code",
   "execution_count": 45,
   "metadata": {},
   "outputs": [
    {
     "name": "stdout",
     "output_type": "stream",
     "text": [
      "Subject Perceived Race\n",
      "0    22958\n",
      "1    24058\n",
      "Name: Terry Stop ID, dtype: int64\n"
     ]
    }
   ],
   "source": [
    "print(stops.groupby('Subject Perceived Race')['Terry Stop ID'].nunique())"
   ]
  },
  {
   "cell_type": "code",
   "execution_count": 46,
   "metadata": {},
   "outputs": [
    {
     "data": {
      "image/png": "[encoded data removed]",
      "text/plain": [
       "<Figure size 432x288 with 1 Axes>"
      ]
     },
     "metadata": {
      "needs_background": "light"
     },
     "output_type": "display_data"
    }
   ],
   "source": [
    "plt.hist(stops['Subject Perceived Race'])\n",
    "plt.show()"
   ]
  },
  {
   "cell_type": "markdown",
   "metadata": {},
   "source": [
    "## 12. Subject Perceived Gender:"
   ]
  },
  {
   "cell_type": "code",
   "execution_count": 47,
   "metadata": {},
   "outputs": [
    {
     "name": "stdout",
     "output_type": "stream",
     "text": [
      "Subject Perceived Gender\n",
      "-                                                              280\n",
      "Female                                                        9544\n",
      "Gender Diverse (gender non-conforming and/or transgender)        5\n",
      "Male                                                         36836\n",
      "Unable to Determine                                            326\n",
      "Unknown                                                         25\n",
      "Name: Terry Stop ID, dtype: int64\n"
     ]
    }
   ],
   "source": [
    "# to count unique Subject Perceived Gender Values\n",
    "print(stops.groupby('Subject Perceived Gender')['Terry Stop ID'].nunique())"
   ]
  },
  {
   "cell_type": "code",
   "execution_count": 48,
   "metadata": {},
   "outputs": [
    {
     "data": {
      "image/png": "[encoded data removed]",
      "text/plain": [
       "<Figure size 432x288 with 1 Axes>"
      ]
     },
     "metadata": {
      "needs_background": "light"
     },
     "output_type": "display_data"
    }
   ],
   "source": [
    "#to create a binary of male v. other including female, gender diverse, et. \n",
    "stops['Subject Male'] = stops['Subject Perceived Gender'].map(lambda x: 1 if x == 'Male' else 0)\n",
    "stops.drop('Subject Perceived Gender', axis = 1, inplace = True)\n",
    "plt.hist(stops['Subject Male'])\n",
    "plt.show()\n"
   ]
  },
  {
   "cell_type": "markdown",
   "metadata": {},
   "source": [
    "## 13. Reported Date: \n",
    "- split date into year and month, drop day "
   ]
  },
  {
   "cell_type": "code",
   "execution_count": 49,
   "metadata": {},
   "outputs": [
    {
     "data": {
      "text/plain": [
       "0    2015-10-16T00:00:00\n",
       "1    2015-03-19T00:00:00\n",
       "2    2015-03-21T00:00:00\n",
       "3    2015-04-01T00:00:00\n",
       "4    2015-04-03T00:00:00\n",
       "Name: Reported Date, dtype: object"
      ]
     },
     "execution_count": 49,
     "metadata": {},
     "output_type": "execute_result"
    }
   ],
   "source": [
    "#to examine Reported Date \n",
    "stops['Reported Date'].head()"
   ]
  },
  {
   "cell_type": "code",
   "execution_count": 50,
   "metadata": {},
   "outputs": [
    {
     "name": "stderr",
     "output_type": "stream",
     "text": [
      "/Users/molly/opt/anaconda3/lib/python3.7/site-packages/ipykernel_launcher.py:3: SettingWithCopyWarning: \n",
      "A value is trying to be set on a copy of a slice from a DataFrame\n",
      "\n",
      "See the caveats in the documentation: https://pandas.pydata.org/pandas-docs/stable/user_guide/indexing.html#returning-a-view-versus-a-copy\n",
      "  This is separate from the ipykernel package so we can avoid doing imports until\n"
     ]
    },
    {
     "data": {
      "text/html": [
       "<div>\n",
       "<style scoped>\n",
       "    .dataframe tbody tr th:only-of-type {\n",
       "        vertical-align: middle;\n",
       "    }\n",
       "\n",
       "    .dataframe tbody tr th {\n",
       "        vertical-align: top;\n",
       "    }\n",
       "\n",
       "    .dataframe thead th {\n",
       "        text-align: right;\n",
       "    }\n",
       "</style>\n",
       "<table border=\"1\" class=\"dataframe\">\n",
       "  <thead>\n",
       "    <tr style=\"text-align: right;\">\n",
       "      <th></th>\n",
       "      <th>0</th>\n",
       "      <th>1</th>\n",
       "    </tr>\n",
       "  </thead>\n",
       "  <tbody>\n",
       "    <tr>\n",
       "      <th>0</th>\n",
       "      <td>2015</td>\n",
       "      <td>10-16T00:00:00</td>\n",
       "    </tr>\n",
       "    <tr>\n",
       "      <th>1</th>\n",
       "      <td>2015</td>\n",
       "      <td>03-19T00:00:00</td>\n",
       "    </tr>\n",
       "    <tr>\n",
       "      <th>2</th>\n",
       "      <td>2015</td>\n",
       "      <td>03-21T00:00:00</td>\n",
       "    </tr>\n",
       "    <tr>\n",
       "      <th>3</th>\n",
       "      <td>2015</td>\n",
       "      <td>04-01T00:00:00</td>\n",
       "    </tr>\n",
       "  </tbody>\n",
       "</table>\n",
       "</div>"
      ],
      "text/plain": [
       "      0               1\n",
       "0  2015  10-16T00:00:00\n",
       "1  2015  03-19T00:00:00\n",
       "2  2015  03-21T00:00:00\n",
       "3  2015  04-01T00:00:00"
      ]
     },
     "execution_count": 50,
     "metadata": {},
     "output_type": "execute_result"
    }
   ],
   "source": [
    "#to separate year: \n",
    "date = stops['Reported Date']\n",
    "date['Year'] =  date.str.split(\"-\", n=1, expand=True)\n",
    "date['Year'][:4]"
   ]
  },
  {
   "cell_type": "code",
   "execution_count": 51,
   "metadata": {},
   "outputs": [],
   "source": [
    "#to make separated year into a column in the df\n",
    "stops['Reported Year'] = date.Year[0]\n",
    "stops['Reported Year'] = stops['Reported Year'].astype(int)"
   ]
  },
  {
   "cell_type": "code",
   "execution_count": 52,
   "metadata": {},
   "outputs": [
    {
     "data": {
      "text/html": [
       "<div>\n",
       "<style scoped>\n",
       "    .dataframe tbody tr th:only-of-type {\n",
       "        vertical-align: middle;\n",
       "    }\n",
       "\n",
       "    .dataframe tbody tr th {\n",
       "        vertical-align: top;\n",
       "    }\n",
       "\n",
       "    .dataframe thead th {\n",
       "        text-align: right;\n",
       "    }\n",
       "</style>\n",
       "<table border=\"1\" class=\"dataframe\">\n",
       "  <thead>\n",
       "    <tr style=\"text-align: right;\">\n",
       "      <th></th>\n",
       "      <th>0</th>\n",
       "      <th>1</th>\n",
       "    </tr>\n",
       "  </thead>\n",
       "  <tbody>\n",
       "    <tr>\n",
       "      <th>0</th>\n",
       "      <td>10</td>\n",
       "      <td>16T00:00:00</td>\n",
       "    </tr>\n",
       "    <tr>\n",
       "      <th>1</th>\n",
       "      <td>03</td>\n",
       "      <td>19T00:00:00</td>\n",
       "    </tr>\n",
       "    <tr>\n",
       "      <th>2</th>\n",
       "      <td>03</td>\n",
       "      <td>21T00:00:00</td>\n",
       "    </tr>\n",
       "    <tr>\n",
       "      <th>3</th>\n",
       "      <td>04</td>\n",
       "      <td>01T00:00:00</td>\n",
       "    </tr>\n",
       "    <tr>\n",
       "      <th>4</th>\n",
       "      <td>04</td>\n",
       "      <td>03T00:00:00</td>\n",
       "    </tr>\n",
       "    <tr>\n",
       "      <th>...</th>\n",
       "      <td>...</td>\n",
       "      <td>...</td>\n",
       "    </tr>\n",
       "    <tr>\n",
       "      <th>47050</th>\n",
       "      <td>02</td>\n",
       "      <td>20T00:00:00</td>\n",
       "    </tr>\n",
       "    <tr>\n",
       "      <th>47051</th>\n",
       "      <td>01</td>\n",
       "      <td>14T00:00:00</td>\n",
       "    </tr>\n",
       "    <tr>\n",
       "      <th>47052</th>\n",
       "      <td>03</td>\n",
       "      <td>15T00:00:00</td>\n",
       "    </tr>\n",
       "    <tr>\n",
       "      <th>47053</th>\n",
       "      <td>03</td>\n",
       "      <td>11T00:00:00</td>\n",
       "    </tr>\n",
       "    <tr>\n",
       "      <th>47054</th>\n",
       "      <td>03</td>\n",
       "      <td>15T00:00:00</td>\n",
       "    </tr>\n",
       "  </tbody>\n",
       "</table>\n",
       "<p>47055 rows × 2 columns</p>\n",
       "</div>"
      ],
      "text/plain": [
       "        0            1\n",
       "0      10  16T00:00:00\n",
       "1      03  19T00:00:00\n",
       "2      03  21T00:00:00\n",
       "3      04  01T00:00:00\n",
       "4      04  03T00:00:00\n",
       "...    ..          ...\n",
       "47050  02  20T00:00:00\n",
       "47051  01  14T00:00:00\n",
       "47052  03  15T00:00:00\n",
       "47053  03  11T00:00:00\n",
       "47054  03  15T00:00:00\n",
       "\n",
       "[47055 rows x 2 columns]"
      ]
     },
     "execution_count": 52,
     "metadata": {},
     "output_type": "execute_result"
    }
   ],
   "source": [
    "#to repeat the steps for month: \n",
    "month = date.Year[1]\n",
    "month['Month'] = month.str.split('-', n=1, expand=True)\n",
    "month['Month']"
   ]
  },
  {
   "cell_type": "code",
   "execution_count": 53,
   "metadata": {},
   "outputs": [],
   "source": [
    "stops['Reported Month'] = month.Month[0]\n",
    "\n",
    "stops['Reported Month']= stops['Reported Month'].astype(int)\n",
    "\n",
    "#to drop Reported Date: \n",
    "stops = stops.drop(columns=['Reported Date'])"
   ]
  },
  {
   "cell_type": "markdown",
   "metadata": {},
   "source": [
    "## 14. Reported Time: "
   ]
  },
  {
   "cell_type": "code",
   "execution_count": 54,
   "metadata": {},
   "outputs": [
    {
     "data": {
      "text/plain": [
       "0    11:32:00\n",
       "1    07:59:00\n",
       "2    19:12:00\n",
       "3    04:55:00\n",
       "4    00:41:00\n",
       "Name: Reported Time, dtype: object"
      ]
     },
     "execution_count": 54,
     "metadata": {},
     "output_type": "execute_result"
    }
   ],
   "source": [
    "stops['Reported Time'].head()"
   ]
  },
  {
   "cell_type": "code",
   "execution_count": 55,
   "metadata": {},
   "outputs": [
    {
     "name": "stderr",
     "output_type": "stream",
     "text": [
      "/Users/molly/opt/anaconda3/lib/python3.7/site-packages/ipykernel_launcher.py:3: SettingWithCopyWarning: \n",
      "A value is trying to be set on a copy of a slice from a DataFrame\n",
      "\n",
      "See the caveats in the documentation: https://pandas.pydata.org/pandas-docs/stable/user_guide/indexing.html#returning-a-view-versus-a-copy\n",
      "  This is separate from the ipykernel package so we can avoid doing imports until\n"
     ]
    },
    {
     "data": {
      "text/plain": [
       "0    11\n",
       "1    07\n",
       "2    19\n",
       "3    04\n",
       "4    00\n",
       "Name: Reported Hour, dtype: object"
      ]
     },
     "execution_count": 55,
     "metadata": {},
     "output_type": "execute_result"
    }
   ],
   "source": [
    "#to separate hour from reported time: \n",
    "hour = stops['Reported Time']\n",
    "hour['Hour'] = hour.str.split(':', n=1, expand=True)\n",
    "hour['Hour']\n",
    "stops['Reported Hour'] = hour['Hour'][0]\n",
    "stops['Reported Hour'].head()"
   ]
  },
  {
   "cell_type": "code",
   "execution_count": 56,
   "metadata": {},
   "outputs": [
    {
     "name": "stdout",
     "output_type": "stream",
     "text": [
      "Reported Hour\n",
      "0     2154\n",
      "1     2334\n",
      "2     2740\n",
      "3     2515\n",
      "4     1446\n",
      "5     1503\n",
      "6     1208\n",
      "7     1286\n",
      "8     1303\n",
      "9     1456\n",
      "10    1833\n",
      "11    1921\n",
      "12    1585\n",
      "13    1845\n",
      "14    2083\n",
      "15    2144\n",
      "16    2255\n",
      "17    2494\n",
      "18    2866\n",
      "19    2585\n",
      "20    1439\n",
      "21    1692\n",
      "22    1990\n",
      "23    2339\n",
      "Name: Terry Stop ID, dtype: int64\n"
     ]
    }
   ],
   "source": [
    "#to create a new column for reported hour:\n",
    "stops['Reported Hour'] = stops['Reported Hour'].astype(int)\n",
    "\n",
    "#to drop the reported time column: \n",
    "stops = stops.drop(columns=['Reported Time'])\n",
    "\n",
    "print(stops.groupby('Reported Hour')['Terry Stop ID'].nunique())"
   ]
  },
  {
   "cell_type": "code",
   "execution_count": 57,
   "metadata": {},
   "outputs": [],
   "source": [
    "# 1-24 makes more sense in hours than 0-23 \n",
    "#to assemble a function to add 1 to each hour value: \n",
    "def add_one(x):\n",
    "\treturn x + 1\n",
    "\n",
    "stops['Reported Hour'] = stops['Reported Hour'].apply(add_one)"
   ]
  },
  {
   "cell_type": "code",
   "execution_count": 58,
   "metadata": {},
   "outputs": [
    {
     "data": {
      "text/plain": [
       "array([12,  8, 20,  5,  1, 24, 22, 23,  2, 16, 13,  3, 11, 10, 15,  6,  9,\n",
       "       19,  4, 21,  7, 14, 18, 17])"
      ]
     },
     "execution_count": 58,
     "metadata": {},
     "output_type": "execute_result"
    }
   ],
   "source": [
    "#to check for completion: \n",
    "stops['Reported Hour'].unique()"
   ]
  },
  {
   "cell_type": "code",
   "execution_count": 59,
   "metadata": {},
   "outputs": [
    {
     "data": {
      "image/png": "[encoded data removed]",
      "text/plain": [
       "<Figure size 432x288 with 1 Axes>"
      ]
     },
     "metadata": {
      "needs_background": "light"
     },
     "output_type": "display_data"
    }
   ],
   "source": [
    "plt.hist(stops['Reported Hour'])\n",
    "plt.show()"
   ]
  },
  {
   "cell_type": "markdown",
   "metadata": {},
   "source": [
    "## 15. Initial Call Type: "
   ]
  },
  {
   "cell_type": "code",
   "execution_count": 60,
   "metadata": {},
   "outputs": [
    {
     "name": "stdout",
     "output_type": "stream",
     "text": [
      "Initial Call Type\n",
      "-                                                 13147\n",
      "-ASSIGNED DUTY - FOOT BEAT (FROM ASSIGNED CAR)        6\n",
      "-ASSIGNED DUTY - STAKEOUT                             1\n",
      "ALARM - ATM MACHINE, FREE STANDING                    1\n",
      "ALARM - AUDIBLE AUTOMOBILE (UNOCC/ANTI-THEFT)         3\n",
      "                                                  ...  \n",
      "WARRANT - SEARCH. CAUTION (EXCL NARCOTICS)           34\n",
      "WARRANT - SEARCH. EXECUTED, SECURED                  40\n",
      "WARRANT PICKUP - FROM OTHER AGENCY                    1\n",
      "WEAPN - GUN,DEADLY WPN (NO THRTS/ASLT/DIST)         188\n",
      "WEAPN-IP/JO-GUN,DEADLY WPN (NO THRT/ASLT/DIST)     1141\n",
      "Name: Terry Stop ID, Length: 167, dtype: int64\n"
     ]
    }
   ],
   "source": [
    "# to count unique Initial Call Type Values\n",
    "print(stops.groupby('Initial Call Type')['Terry Stop ID'].nunique())"
   ]
  },
  {
   "cell_type": "code",
   "execution_count": 61,
   "metadata": {},
   "outputs": [
    {
     "data": {
      "text/plain": [
       "array(['-', 'DIST - IP/JO - DV DIST - NO ASLT',\n",
       "       'THEFT (DOES NOT INCLUDE SHOPLIFT OR SVCS)',\n",
       "       'DISTURBANCE, MISCELLANEOUS/OTHER',\n",
       "       'SUSPICIOUS PERSON, VEHICLE OR INCIDENT',\n",
       "       'SUSPICIOUS STOP - OFFICER INITIATED ONVIEW',\n",
       "       'SHOTS - IP/JO - INCLUDES HEARD/NO ASSAULT', 'SHOPLIFT - THEFT',\n",
       "       'NARCOTICS - VIOLATIONS (LOITER, USE, SELL, NARS)',\n",
       "       'MVC - HIT AND RUN (NON INJURY), INCLUDES IP/JO',\n",
       "       'ASLT - IP/JO - WITH OR W/O WPNS (NO SHOOTINGS)', 'TRESPASS',\n",
       "       'MVC - WITH INJURIES (INCLUDES HIT AND RUN)',\n",
       "       'FIGHT - VERBAL/ORAL (NO WEAPONS)',\n",
       "       'WEAPN-IP/JO-GUN,DEADLY WPN (NO THRT/ASLT/DIST)', 'AUTO RECOVERY',\n",
       "       'PROWLER - IP/JO', 'PERSON IN BEHAVIORAL/EMOTIONAL CRISIS',\n",
       "       'FIGHT - IP - PHYSICAL (NO WEAPONS)',\n",
       "       'BURG - IP/JO - RES (INCL UNOCC STRUCTURES)',\n",
       "       'TRAFFIC STOP - OFFICER INITIATED ONVIEW', 'NUISANCE - MISCHIEF',\n",
       "       'HAZ - POTENTIAL THRT TO PHYS SAFETY (NO HAZMAT)',\n",
       "       'WARRANT - MISD WARRANT PICKUP',\n",
       "       'ROBBERY - IP/JO (INCLUDES STRONG ARM)',\n",
       "       'BURG - RES (INCL UNOCC STRUCTURES ON PROP)',\n",
       "       'UNKNOWN - ANI/ALI - LANDLINE (INCLUDES OPEN LINE)',\n",
       "       'SHOTS -DELAY/INCLUDES HEARD/NO ASSAULT',\n",
       "       'ASLT - WITH OR W/O WEAPONS (NO SHOOTINGS)',\n",
       "       'ALARM - COMM, SILENT/AUD BURG (INCL BANKS)',\n",
       "       'CARJACKING - IP/JO - ROBBERY',\n",
       "       'UNKNOWN - ANI/ALI - WRLS PHNS (INCL OPEN LINE)',\n",
       "       'DOWN - CHECK FOR PERSON DOWN', 'TRAFFIC - ROAD RAGE',\n",
       "       'BURG - COMM BURGLARY (INCLUDES SCHOOLS)',\n",
       "       'THREATS (INCLS IN-PERSON/BY PHONE/IN WRITING)',\n",
       "       'WARRANT - FELONY PICKUP', 'DIST - DV - NO ASLT',\n",
       "       'AUTO THEFT - VEH THEFT OR THEFT & RECOVERY', 'SICK PERSON',\n",
       "       'PROPERTY - DAMAGE', 'ASLT - IP/JO - DV', 'ARSON - IP/JO',\n",
       "       'ORDER - IP - VIOLATION OF DV COURT ORDER',\n",
       "       'ROBBERY (INCLUDES STRONG ARM)',\n",
       "       'SEX IN PUBLIC PLACE/VIEW (INCL MASTURBATION)',\n",
       "       'ORDER - VIOLATING DV COURT ORDER',\n",
       "       'ORDER - VIOLATION OF COURT ORDER (NON DV)',\n",
       "       'BURG - IP/JO - COMM BURG (INCLUDES SCHOOLS)',\n",
       "       'TRAFFIC - BLOCKING ROADWAY',\n",
       "       'UNDERCOVER OPS, CAUTION (INCLUDES STAKEOUTS)',\n",
       "       'ASLT - IP/JO - PERSON SHOT OR SHOT AT', 'PANHANDLING, AGGRESSIVE',\n",
       "       'FOLLOW UP', 'DUI - DRIVING UNDER INFLUENCE',\n",
       "       'FIGHT - IP/JO - WITH WEAPONS', 'FIGHT - WITH WEAPONS',\n",
       "       'FIGHT - JO - PHYSICAL (NO WEAPONS)',\n",
       "       'LEWD -  (EXPOSING, FLASHING)', 'PROPERTY - DAMAGE (GUN RELATED)',\n",
       "       'TRAFFIC - MOVING VIOLATION', 'MVC - UNK INJURIES',\n",
       "       'SFD - ASSIST ON FIRE OR MEDIC RESPONSE',\n",
       "       'PREMISE CHECK, OFFICER INITIATED ONVIEW ONLY',\n",
       "       'ASSIST OTHER AGENCY - ROUTINE SERVICE',\n",
       "       'HARAS - NO BIAS, THREATS OR MALICIOUSNESS', 'ILLEGAL DUMPING',\n",
       "       'LIQUOR VIOLATIONS - ADULT', 'FIREWORKS - NUISANCE (NO HAZARD)',\n",
       "       'UNKNOWN - COMPLAINT OF UNKNOWN NATURE',\n",
       "       'FRAUD - FORGERY,BUNCO, SCAMS, ID THEFT, ETC',\n",
       "       'PROPERTY - FOUND GUN, SHELLCASINGS',\n",
       "       'WEAPN - GUN,DEADLY WPN (NO THRTS/ASLT/DIST)',\n",
       "       'SUICIDE - IP/JO SUICIDAL PERSON AND ATTEMPTS',\n",
       "       'DOA - CASUALTY, DEAD BODY', 'TRAF - ELUDING POLICE',\n",
       "       'OPEN - BUILDING, DOOR, ETC.', 'NARCOTICS WARRANT SERVICE',\n",
       "       'MVC - NON INJURY, BLOCKING', 'HELP THE OFFICER',\n",
       "       'VICE - PROSTITUTION', 'SERVICE - WELFARE CHECK',\n",
       "       'THEFT OF SERVICES', 'AUTO THEFT-IP/JO - VEHICLE, PLATES, TABS',\n",
       "       'NOISE - DISTURBANCE (PARTY, ETC)',\n",
       "       'NOISE - DIST, GENERAL (CONST, RESID, BALL PLAY)',\n",
       "       'DOWN - CHECK FOR DOWN PERSON', 'LIQUOR VIOLATIONS - MINOR',\n",
       "       'PURSE SNATCH - IP/JO - ROBBERY', 'RAPE - IP/JO',\n",
       "       'OVERDOSE - DRUG RELATED CASUALTY', 'PROWLER',\n",
       "       'JUVENILE - RUNAWAY', 'PURSE SNATCH - ROBBERY',\n",
       "       'JUVENILE - RUNAWAY PICKUP', 'MISSING - CHILD',\n",
       "       'NARCOTICS WARRANT SERVICE - EXECUTED, SECURED', 'ASLT - DV',\n",
       "       'WARRANT - SEARCH. CAUTION (EXCL NARCOTICS)',\n",
       "       'FOOT - ELUDING POLICE', 'CHILD - IP/JO - LURING',\n",
       "       'WARRANT - SEARCH. EXECUTED, SECURED', 'CARJACKING - ROBBERY',\n",
       "       'THREATS - DV - NO ASSAULT', 'RAPE',\n",
       "       'ASLT - PERSON SHOT OR SHOT AT',\n",
       "       'ASSIST PUBLIC - NO WELFARE CHK OR DV ORDER SERVICE',\n",
       "       'CHILD - ABAND, ABUSED, MOLESTED, NEGLECTED',\n",
       "       'ORDER  - SERVICE OF DV COURT ORDER', 'OFF DUTY EMPLOYMENT',\n",
       "       'ASLT - MOLESTED ADULT (GROPED, FONDLED, ETC.)', 'DEMONSTRATIONS',\n",
       "       'PARKS VIOLATIONS/CITES (INCLUDES EXCLUSIONS)',\n",
       "       '-ASSIGNED DUTY - FOOT BEAT (FROM ASSIGNED CAR)',\n",
       "       'TRAFFIC - ASSIST MOTORIST',\n",
       "       'CHILD - IP/JO - ABAND, ABUSE, MOLEST, NEGLECT',\n",
       "       '-ASSIGNED DUTY - STAKEOUT',\n",
       "       'ALARM - RESIDENTIAL - BURGLARY, SILENT/AUDIBLE',\n",
       "       'PEACE-STANDBY TO ASSURE (NO COURT ORDR SVC)',\n",
       "       'MVC - REPORT, NON INJ/NON BLKG OR AFTER FACT INJ',\n",
       "       'EXPLOSION - IP/JO', 'BURN - RECKLESS BURNING', 'TRU - THEFT',\n",
       "       'ASSIST OTHER AGENCY - EMERGENCY SERVICE', 'BOMB THREATS - IP/JO',\n",
       "       'PARKING VIOLATION (EXCEPT ABANDONED CAR)', 'ARSON - REPORT',\n",
       "       'BIAS -RACIAL, POLITICAL, SEXUAL MOTIVATION',\n",
       "       'PEDESTRIAN VIOLATIONS', 'AWOL - ADULT OR JUVENILE',\n",
       "       'ASSIST SPD - ROUTINE SERVICE', 'DIRECTED PATROL ACTIVITY',\n",
       "       'ALARM - AUDIBLE AUTOMOBILE (UNOCC/ANTI-THEFT)', 'LITTERING',\n",
       "       'ALARM - BANK (HOLD-UP)',\n",
       "       'HAZ - IMMINENT THRT TO PHYS SAFETY (NO HAZ MAT)',\n",
       "       'PROPERTY - FOUND', 'CHILD -  LURING', 'NARCOTICS - FOUND',\n",
       "       'FOUND - PERSON', 'AUTO - THEFT/LOSS, PLATES AND/OR TAB',\n",
       "       'SUSPICIOUS PACKAGE', 'ANIMAL - INJURED, DEAD HAZARD, OTHER',\n",
       "       'SUICIDE, SUICIDAL PERSON AND ATTEMPTS', 'REQUEST TO WATCH',\n",
       "       'KNOWN KIDNAPPNG', 'ESCAPE - PRISONER', 'MISSING - ADULT',\n",
       "       'SLEEPER ABOARD BUS/COMMUTER TRAIN',\n",
       "       'PHONE - OBSCENE OR NUISANCE PHONE CALLS',\n",
       "       'ALARM - ATM MACHINE, FREE STANDING',\n",
       "       'ALARM - RESIDENTIAL - SILENT/AUD PANIC/DURESS',\n",
       "       'VICE - PORNOGRAPHY', 'GAMBLING',\n",
       "       'URINATING, DEFECATING IN PUBLIC', 'HARBOR - WATER EMERGENCIES',\n",
       "       'INJURED - IP/JO - PERSON/INDUSTRIAL ACCIDENT',\n",
       "       'ANIMAL - IP/JO - BITE',\n",
       "       'UNKNOWN - ANI/ALI - PAY PHNS (INCL OPEN LINE)',\n",
       "       'MISSING - (ALZHEIMER, ENDANGERED, ELDERLY)',\n",
       "       'ORDER - ASSIST DV VIC W/SRVC OF COURT ORDER',\n",
       "       'INJURED -  PERSON/INDUSTRIAL ACCIDENT', 'TRACKING ALARM',\n",
       "       'ALARM - COMM, HOLD-UP/PANIC (EXCEPT BANKS)',\n",
       "       'WARRANT PICKUP - FROM OTHER AGENCY',\n",
       "       'ASSIST SPD - URGENT SERVICE', 'ANIMAL, REPORT - BITE'],\n",
       "      dtype=object)"
      ]
     },
     "execution_count": 61,
     "metadata": {},
     "output_type": "execute_result"
    }
   ],
   "source": [
    "stops['Initial Call Type'].unique()"
   ]
  },
  {
   "cell_type": "code",
   "execution_count": 62,
   "metadata": {},
   "outputs": [
    {
     "data": {
      "image/png": "[encoded data removed]",
      "text/plain": [
       "<Figure size 432x288 with 1 Axes>"
      ]
     },
     "metadata": {
      "needs_background": "light"
     },
     "output_type": "display_data"
    }
   ],
   "source": [
    "plt.hist(stops['Initial Call Type'])\n",
    "plt.show()"
   ]
  },
  {
   "cell_type": "code",
   "execution_count": 63,
   "metadata": {},
   "outputs": [],
   "source": [
    "#because over 13,000 of these values are null, I am going to drop this column. \n",
    "stops = stops.drop(columns=['Initial Call Type'])"
   ]
  },
  {
   "cell_type": "markdown",
   "metadata": {},
   "source": [
    "## 16. Final Call Type:"
   ]
  },
  {
   "cell_type": "code",
   "execution_count": 64,
   "metadata": {},
   "outputs": [
    {
     "name": "stdout",
     "output_type": "stream",
     "text": [
      "Final Call Type\n",
      "-                                                  13147\n",
      "--ALARM-COMM (INC BANK, ATM, SCHOOLS, BSN)            51\n",
      "--ALARM-COMM ROBB (BANK, PANIC, DURESS)                8\n",
      "--ALARM-OTHER (VARDA,PDT,FIRE,LOCAL,METRO,ETC))        6\n",
      "--ALARM-RESIDENTIAL BURG                              10\n",
      "                                                   ...  \n",
      "WARRANT - FELONY PICKUP                               12\n",
      "WARRANT - MISD WARRANT PICKUP                         10\n",
      "WARRANT PICKUP - FROM OTHER AGENCY                     1\n",
      "WEAPN - GUN,DEADLY WPN (NO THRTS/ASLT/DIST)            4\n",
      "WEAPN-IP/JO-GUN,DEADLY WPN (NO THRT/ASLT/DIST)         6\n",
      "Name: Terry Stop ID, Length: 207, dtype: int64\n"
     ]
    }
   ],
   "source": [
    "# to count unique Final Call Type Values\n",
    "print(stops.groupby('Final Call Type')['Terry Stop ID'].nunique())"
   ]
  },
  {
   "cell_type": "code",
   "execution_count": 65,
   "metadata": {},
   "outputs": [],
   "source": [
    "#again, over 13,000 of these values are null. I will drop this column as well: \n",
    "stops = stops.drop(columns = ['Final Call Type'])"
   ]
  },
  {
   "cell_type": "markdown",
   "metadata": {},
   "source": [
    "## 17. Call Type"
   ]
  },
  {
   "cell_type": "code",
   "execution_count": 66,
   "metadata": {},
   "outputs": [
    {
     "name": "stdout",
     "output_type": "stream",
     "text": [
      "Call Type\n",
      "-                                13147\n",
      "911                              21152\n",
      "ALARM CALL (NOT POLICE ALARM)      333\n",
      "ONVIEW                            9078\n",
      "SCHEDULED EVENT (RECURRING)          1\n",
      "TELEPHONE OTHER, NOT 911          3298\n",
      "TEXT MESSAGE                         7\n",
      "Name: Terry Stop ID, dtype: int64\n"
     ]
    }
   ],
   "source": [
    "# to count unique Call Type Values\n",
    "print(stops.groupby('Call Type')['Terry Stop ID'].nunique())"
   ]
  },
  {
   "cell_type": "code",
   "execution_count": 67,
   "metadata": {},
   "outputs": [],
   "source": [
    "#over 13,000 of these values are null as well. to drop: \n",
    "stops = stops.drop(columns = ['Call Type'])"
   ]
  },
  {
   "cell_type": "markdown",
   "metadata": {},
   "source": [
    "## 18. Officer Squad: "
   ]
  },
  {
   "cell_type": "code",
   "execution_count": 68,
   "metadata": {},
   "outputs": [
    {
     "name": "stdout",
     "output_type": "stream",
     "text": [
      "Officer Squad\n",
      "AUTO THEFT                              8\n",
      "BURG/THEFT/JUV - EAST                   5\n",
      "BURG/THEFT/JUV - NORTH                  1\n",
      "BURG/THEFT/JUV - SOUTH                  6\n",
      "BURG/THEFT/JUV - WEST                   1\n",
      "                                       ..\n",
      "WEST PCT OPS - COMMERCIAL SEC           1\n",
      "WEST PCT OPS - CPT                     75\n",
      "WEST PCT OPS - MOUNTED PATROL           9\n",
      "WEST PCT OPS - SEA CTR                 10\n",
      "ZOLD CRIME ANALYSIS UNIT - ANALYSTS     1\n",
      "Name: Terry Stop ID, Length: 172, dtype: int64\n"
     ]
    }
   ],
   "source": [
    "# to count unique Officer Squad Values\n",
    "print(stops.groupby('Officer Squad')['Terry Stop ID'].nunique())"
   ]
  },
  {
   "cell_type": "code",
   "execution_count": 69,
   "metadata": {},
   "outputs": [],
   "source": [
    "stops['Officer Squad'].astype(str)\n",
    "stops['Officer Squad'].fillna(\"na\", inplace= True)"
   ]
  },
  {
   "cell_type": "code",
   "execution_count": 70,
   "metadata": {},
   "outputs": [
    {
     "data": {
      "image/png": "[encoded data removed]",
      "text/plain": [
       "<Figure size 432x288 with 1 Axes>"
      ]
     },
     "metadata": {
      "needs_background": "light"
     },
     "output_type": "display_data"
    }
   ],
   "source": [
    "plt.hist(stops['Officer Squad'])\n",
    "plt.show()"
   ]
  },
  {
   "cell_type": "markdown",
   "metadata": {},
   "source": [
    "## 19. Arrest Flag \n",
    "According to the website, this variable indicates whether an arrest was made. "
   ]
  },
  {
   "cell_type": "code",
   "execution_count": 71,
   "metadata": {},
   "outputs": [
    {
     "name": "stdout",
     "output_type": "stream",
     "text": [
      "Arrest Flag\n",
      "N    43634\n",
      "Y     3382\n",
      "Name: Terry Stop ID, dtype: int64\n"
     ]
    }
   ],
   "source": [
    "# to count unique Arrest Flag Values\n",
    "print(stops.groupby('Arrest Flag')['Terry Stop ID'].nunique())"
   ]
  },
  {
   "cell_type": "code",
   "execution_count": 72,
   "metadata": {},
   "outputs": [
    {
     "data": {
      "image/png": "[encoded data removed]",
      "text/plain": [
       "<Figure size 432x288 with 1 Axes>"
      ]
     },
     "metadata": {
      "needs_background": "light"
     },
     "output_type": "display_data"
    }
   ],
   "source": [
    "#to replace N with 0 and Y with 1 \n",
    "stops['Arrest Flag'].replace('N',0,inplace=True)\n",
    "stops['Arrest Flag'].replace('Y',1,inplace=True)\n",
    "\n",
    "plt.hist(stops['Arrest Flag'])\n",
    "plt.show()"
   ]
  },
  {
   "cell_type": "code",
   "execution_count": 73,
   "metadata": {},
   "outputs": [
    {
     "data": {
      "image/png": "[encoded data removed]",
      "text/plain": [
       "<Figure size 1080x432 with 1 Axes>"
      ]
     },
     "metadata": {},
     "output_type": "display_data"
    }
   ],
   "source": [
    "# Create chart labels and calculate the size of each piece of the pie:\n",
    "labels = 'Arrested', 'Not Arrested'\n",
    "sizes = [stops['Arrest Flag'].sum(), (len(stops['Arrest Flag'])-stops['Arrest Flag'].sum())]\n",
    "explode = (0.1, 0)  # \"explode\" the arrested slice\n",
    "\n",
    "# Create a pie chart showing % arrested vs. % not arrested:\n",
    "fig1, ax1 = plt.subplots(figsize=(15,6))\n",
    "ax1.pie(sizes, explode=explode, colors = ['Green','Blue'],labels=labels, autopct='%1.1f%%',\n",
    "        shadow=True, startangle=90,textprops={'fontsize': 20})\n",
    "ax1.axis('equal')  # Equal aspect ratio ensures that pie is drawn as a circle.\n",
    "plt.show();"
   ]
  },
  {
   "cell_type": "markdown",
   "metadata": {},
   "source": [
    "Why is this data different from Stop Resolution? How different is it? "
   ]
  },
  {
   "cell_type": "markdown",
   "metadata": {},
   "source": [
    "## 20. Frisk Flag: \n",
    "This variable indicates whether or not a frist was performed by an officer: "
   ]
  },
  {
   "cell_type": "code",
   "execution_count": 74,
   "metadata": {},
   "outputs": [
    {
     "name": "stdout",
     "output_type": "stream",
     "text": [
      "Frisk Flag\n",
      "-      478\n",
      "N    36029\n",
      "Y    10509\n",
      "Name: Terry Stop ID, dtype: int64\n"
     ]
    }
   ],
   "source": [
    "# to count unique Frisk Flag Values\n",
    "print(stops.groupby('Frisk Flag')['Terry Stop ID'].nunique())"
   ]
  },
  {
   "cell_type": "code",
   "execution_count": 75,
   "metadata": {},
   "outputs": [
    {
     "data": {
      "image/png": "[encoded data removed]",
      "text/plain": [
       "<Figure size 432x288 with 1 Axes>"
      ]
     },
     "metadata": {
      "needs_background": "light"
     },
     "output_type": "display_data"
    }
   ],
   "source": [
    "#to replace - and N with 0 and Y with 1: \n",
    "stops['Frisk Flag'].replace('N',0,inplace=True)\n",
    "stops['Frisk Flag'].replace('-',0,inplace=True)\n",
    "stops['Frisk Flag'].replace('Y',1,inplace=True)\n",
    "\n",
    "plt.hist(stops['Frisk Flag'])\n",
    "plt.show()"
   ]
  },
  {
   "cell_type": "markdown",
   "metadata": {},
   "source": [
    "## 21. Precinct: "
   ]
  },
  {
   "cell_type": "code",
   "execution_count": 76,
   "metadata": {},
   "outputs": [
    {
     "name": "stdout",
     "output_type": "stream",
     "text": [
      "Precinct\n",
      "-             9846\n",
      "East          6173\n",
      "FK ERROR        20\n",
      "North        10349\n",
      "OOJ             33\n",
      "South         5622\n",
      "SouthWest     1081\n",
      "Southwest     2320\n",
      "Unknown        200\n",
      "West         11372\n",
      "Name: Terry Stop ID, dtype: int64\n"
     ]
    }
   ],
   "source": [
    "print(stops.groupby('Precinct')['Terry Stop ID'].nunique())"
   ]
  },
  {
   "cell_type": "markdown",
   "metadata": {},
   "source": [
    "## 22. Sector: "
   ]
  },
  {
   "cell_type": "code",
   "execution_count": 77,
   "metadata": {},
   "outputs": [
    {
     "name": "stdout",
     "output_type": "stream",
     "text": [
      "Sector\n",
      "-         10052\n",
      "99           53\n",
      "B           505\n",
      "B          1658\n",
      "C           373\n",
      "C          1037\n",
      "D          1127\n",
      "D          1512\n",
      "E           906\n",
      "E          2337\n",
      "F           657\n",
      "F          1378\n",
      "G           432\n",
      "G          1087\n",
      "J           390\n",
      "J          1119\n",
      "K          1712\n",
      "K          1762\n",
      "L           406\n",
      "L          1639\n",
      "M          1237\n",
      "M          2270\n",
      "N           689\n",
      "N          2191\n",
      "O           591\n",
      "O          1161\n",
      "Q           781\n",
      "Q           967\n",
      "R           600\n",
      "R          1455\n",
      "S           468\n",
      "S          1348\n",
      "U           450\n",
      "U          1302\n",
      "W           423\n",
      "W           941\n",
      "Name: Terry Stop ID, dtype: int64\n"
     ]
    }
   ],
   "source": [
    "# to count unique Sector Values\n",
    "print(stops.groupby('Sector')['Terry Stop ID'].nunique())"
   ]
  },
  {
   "cell_type": "code",
   "execution_count": 78,
   "metadata": {},
   "outputs": [
    {
     "data": {
      "text/plain": [
       "array(['O     ', '-', 'E     ', 'C     ', 'N     ', 'U     ', 'K     ',\n",
       "       'L     ', 'G     ', 'F     ', 'R     ', 'W     ', 'J     ',\n",
       "       'M     ', 'D     ', 'S     ', 'B     ', 'K', 'Q     ', '99    ',\n",
       "       'C', 'O', 'R', 'D', 'G', 'B', 'S', 'U', 'F', 'E', 'W', 'N', 'M',\n",
       "       'Q', 'J', 'L'], dtype=object)"
      ]
     },
     "execution_count": 78,
     "metadata": {},
     "output_type": "execute_result"
    }
   ],
   "source": [
    "stops['Sector'].unique()"
   ]
  },
  {
   "cell_type": "code",
   "execution_count": 79,
   "metadata": {},
   "outputs": [],
   "source": [
    "#to combine like sectors: \n",
    "stops['Sector'].replace('O     ','O',inplace=True)\n",
    "stops['Sector'].replace('E     ','E',inplace=True)\n",
    "stops['Sector'].replace('C     ','C',inplace=True)\n",
    "stops['Sector'].replace('N     ','N',inplace=True)\n",
    "stops['Sector'].replace('U     ','U',inplace=True)\n",
    "stops['Sector'].replace('K     ','K',inplace=True)\n",
    "stops['Sector'].replace('L     ','L',inplace=True)\n",
    "stops['Sector'].replace('G     ','G',inplace=True)\n",
    "stops['Sector'].replace('F     ','F',inplace=True)\n",
    "stops['Sector'].replace('R     ','R',inplace=True)\n",
    "stops['Sector'].replace('W     ','W',inplace=True)\n",
    "stops['Sector'].replace('J     ','J',inplace=True)\n",
    "stops['Sector'].replace('M     ','M',inplace=True)\n",
    "stops['Sector'].replace('D     ','D',inplace=True)\n",
    "stops['Sector'].replace('S     ','S',inplace=True)\n",
    "stops['Sector'].replace('B     ','B',inplace=True)\n",
    "stops['Sector'].replace('K     ','K',inplace=True)\n",
    "stops['Sector'].replace('Q     ','Q',inplace=True)"
   ]
  },
  {
   "cell_type": "code",
   "execution_count": 80,
   "metadata": {},
   "outputs": [
    {
     "name": "stdout",
     "output_type": "stream",
     "text": [
      "Sector\n",
      "-         10052\n",
      "99           53\n",
      "B          2163\n",
      "C          1410\n",
      "D          2639\n",
      "E          3243\n",
      "F          2035\n",
      "G          1519\n",
      "J          1509\n",
      "K          3474\n",
      "L          2045\n",
      "M          3507\n",
      "N          2880\n",
      "O          1752\n",
      "Q          1748\n",
      "R          2055\n",
      "S          1816\n",
      "U          1752\n",
      "W          1364\n",
      "Name: Terry Stop ID, dtype: int64\n"
     ]
    }
   ],
   "source": [
    "print(stops.groupby('Sector')['Terry Stop ID'].nunique())"
   ]
  },
  {
   "cell_type": "code",
   "execution_count": 81,
   "metadata": {},
   "outputs": [
    {
     "data": {
      "image/png": "[encoded data removed]",
      "text/plain": [
       "<Figure size 432x288 with 1 Axes>"
      ]
     },
     "metadata": {
      "needs_background": "light"
     },
     "output_type": "display_data"
    }
   ],
   "source": [
    "plt.hist(stops['Sector'])\n",
    "plt.show()"
   ]
  },
  {
   "cell_type": "code",
   "execution_count": 82,
   "metadata": {},
   "outputs": [],
   "source": [
    "#because so many of the sector values are missing, and the data looks scattered, I am dropping sector \n",
    "stops = stops.drop(columns=['Sector'])"
   ]
  },
  {
   "cell_type": "markdown",
   "metadata": {},
   "source": [
    "## 23. Beat: \n",
    "According to the website: \n",
    "Beat of the address associated with the underlying Computer Aided Dispatch (CAD) event. Not necessarily where the Terry Stop occurred."
   ]
  },
  {
   "cell_type": "code",
   "execution_count": 83,
   "metadata": {},
   "outputs": [
    {
     "name": "stdout",
     "output_type": "stream",
     "text": [
      "Beat\n",
      "-         9991\n",
      "99          32\n",
      "99          53\n",
      "B1         186\n",
      "B1         643\n",
      "          ... \n",
      "W1         328\n",
      "W2         194\n",
      "W2         385\n",
      "W3         110\n",
      "W3         228\n",
      "Name: Terry Stop ID, Length: 107, dtype: int64\n"
     ]
    }
   ],
   "source": [
    "print(stops.groupby('Beat')['Terry Stop ID'].nunique())"
   ]
  },
  {
   "cell_type": "code",
   "execution_count": 84,
   "metadata": {},
   "outputs": [],
   "source": [
    "#to drop beat: \n",
    "stops = stops.drop(columns = ['Beat'])"
   ]
  },
  {
   "cell_type": "markdown",
   "metadata": {},
   "source": [
    "# Explore: "
   ]
  },
  {
   "cell_type": "code",
   "execution_count": 85,
   "metadata": {},
   "outputs": [
    {
     "data": {
      "text/html": [
       "<div>\n",
       "<style scoped>\n",
       "    .dataframe tbody tr th:only-of-type {\n",
       "        vertical-align: middle;\n",
       "    }\n",
       "\n",
       "    .dataframe tbody tr th {\n",
       "        vertical-align: top;\n",
       "    }\n",
       "\n",
       "    .dataframe thead th {\n",
       "        text-align: right;\n",
       "    }\n",
       "</style>\n",
       "<table border=\"1\" class=\"dataframe\">\n",
       "  <thead>\n",
       "    <tr style=\"text-align: right;\">\n",
       "      <th></th>\n",
       "      <th>Subject Age Group</th>\n",
       "      <th>Terry Stop ID</th>\n",
       "      <th>Stop Resolution</th>\n",
       "      <th>Weapon Type</th>\n",
       "      <th>Officer YOB</th>\n",
       "      <th>Officer Race</th>\n",
       "      <th>Subject Perceived Race</th>\n",
       "      <th>Officer Squad</th>\n",
       "      <th>Arrest Flag</th>\n",
       "      <th>Frisk Flag</th>\n",
       "      <th>Precinct</th>\n",
       "      <th>Officer Male</th>\n",
       "      <th>Subject Male</th>\n",
       "      <th>Reported Year</th>\n",
       "      <th>Reported Month</th>\n",
       "      <th>Reported Hour</th>\n",
       "    </tr>\n",
       "  </thead>\n",
       "  <tbody>\n",
       "    <tr>\n",
       "      <th>0</th>\n",
       "      <td>1</td>\n",
       "      <td>92317</td>\n",
       "      <td>1</td>\n",
       "      <td>0</td>\n",
       "      <td>1984</td>\n",
       "      <td>1</td>\n",
       "      <td>1</td>\n",
       "      <td>SOUTH PCT 1ST W - ROBERT</td>\n",
       "      <td>0</td>\n",
       "      <td>0</td>\n",
       "      <td>South</td>\n",
       "      <td>1</td>\n",
       "      <td>1</td>\n",
       "      <td>2015</td>\n",
       "      <td>10</td>\n",
       "      <td>12</td>\n",
       "    </tr>\n",
       "    <tr>\n",
       "      <th>1</th>\n",
       "      <td>1</td>\n",
       "      <td>28806</td>\n",
       "      <td>0</td>\n",
       "      <td>0</td>\n",
       "      <td>1965</td>\n",
       "      <td>0</td>\n",
       "      <td>1</td>\n",
       "      <td>na</td>\n",
       "      <td>0</td>\n",
       "      <td>0</td>\n",
       "      <td>-</td>\n",
       "      <td>1</td>\n",
       "      <td>0</td>\n",
       "      <td>2015</td>\n",
       "      <td>3</td>\n",
       "      <td>8</td>\n",
       "    </tr>\n",
       "    <tr>\n",
       "      <th>2</th>\n",
       "      <td>1</td>\n",
       "      <td>29599</td>\n",
       "      <td>0</td>\n",
       "      <td>0</td>\n",
       "      <td>1961</td>\n",
       "      <td>0</td>\n",
       "      <td>0</td>\n",
       "      <td>na</td>\n",
       "      <td>0</td>\n",
       "      <td>0</td>\n",
       "      <td>-</td>\n",
       "      <td>1</td>\n",
       "      <td>1</td>\n",
       "      <td>2015</td>\n",
       "      <td>3</td>\n",
       "      <td>20</td>\n",
       "    </tr>\n",
       "    <tr>\n",
       "      <th>3</th>\n",
       "      <td>1</td>\n",
       "      <td>32260</td>\n",
       "      <td>0</td>\n",
       "      <td>0</td>\n",
       "      <td>1963</td>\n",
       "      <td>0</td>\n",
       "      <td>1</td>\n",
       "      <td>na</td>\n",
       "      <td>0</td>\n",
       "      <td>0</td>\n",
       "      <td>-</td>\n",
       "      <td>1</td>\n",
       "      <td>0</td>\n",
       "      <td>2015</td>\n",
       "      <td>4</td>\n",
       "      <td>5</td>\n",
       "    </tr>\n",
       "    <tr>\n",
       "      <th>4</th>\n",
       "      <td>1</td>\n",
       "      <td>33155</td>\n",
       "      <td>0</td>\n",
       "      <td>0</td>\n",
       "      <td>1977</td>\n",
       "      <td>0</td>\n",
       "      <td>1</td>\n",
       "      <td>na</td>\n",
       "      <td>0</td>\n",
       "      <td>0</td>\n",
       "      <td>-</td>\n",
       "      <td>1</td>\n",
       "      <td>1</td>\n",
       "      <td>2015</td>\n",
       "      <td>4</td>\n",
       "      <td>1</td>\n",
       "    </tr>\n",
       "  </tbody>\n",
       "</table>\n",
       "</div>"
      ],
      "text/plain": [
       "   Subject Age Group  Terry Stop ID  Stop Resolution  Weapon Type  \\\n",
       "0                  1          92317                1            0   \n",
       "1                  1          28806                0            0   \n",
       "2                  1          29599                0            0   \n",
       "3                  1          32260                0            0   \n",
       "4                  1          33155                0            0   \n",
       "\n",
       "   Officer YOB  Officer Race  Subject Perceived Race  \\\n",
       "0         1984             1                       1   \n",
       "1         1965             0                       1   \n",
       "2         1961             0                       0   \n",
       "3         1963             0                       1   \n",
       "4         1977             0                       1   \n",
       "\n",
       "              Officer Squad  Arrest Flag  Frisk Flag Precinct  Officer Male  \\\n",
       "0  SOUTH PCT 1ST W - ROBERT            0           0    South             1   \n",
       "1                        na            0           0        -             1   \n",
       "2                        na            0           0        -             1   \n",
       "3                        na            0           0        -             1   \n",
       "4                        na            0           0        -             1   \n",
       "\n",
       "   Subject Male  Reported Year  Reported Month  Reported Hour  \n",
       "0             1           2015              10             12  \n",
       "1             0           2015               3              8  \n",
       "2             1           2015               3             20  \n",
       "3             0           2015               4              5  \n",
       "4             1           2015               4              1  "
      ]
     },
     "execution_count": 85,
     "metadata": {},
     "output_type": "execute_result"
    }
   ],
   "source": [
    "stops.head()"
   ]
  },
  {
   "cell_type": "code",
   "execution_count": 86,
   "metadata": {},
   "outputs": [
    {
     "data": {
      "image/png": "[encoded data removed]",
      "text/plain": [
       "<Figure size 1080x1080 with 16 Axes>"
      ]
     },
     "metadata": {
      "needs_background": "light"
     },
     "output_type": "display_data"
    }
   ],
   "source": [
    "stops.hist(figsize = (15,15))\n",
    "plt.show()"
   ]
  },
  {
   "cell_type": "code",
   "execution_count": 87,
   "metadata": {},
   "outputs": [
    {
     "data": {
      "text/html": [
       "<div>\n",
       "<style scoped>\n",
       "    .dataframe tbody tr th:only-of-type {\n",
       "        vertical-align: middle;\n",
       "    }\n",
       "\n",
       "    .dataframe tbody tr th {\n",
       "        vertical-align: top;\n",
       "    }\n",
       "\n",
       "    .dataframe thead th {\n",
       "        text-align: right;\n",
       "    }\n",
       "</style>\n",
       "<table border=\"1\" class=\"dataframe\">\n",
       "  <thead>\n",
       "    <tr style=\"text-align: right;\">\n",
       "      <th></th>\n",
       "      <th>cc</th>\n",
       "    </tr>\n",
       "    <tr>\n",
       "      <th>pairs</th>\n",
       "      <th></th>\n",
       "    </tr>\n",
       "  </thead>\n",
       "  <tbody>\n",
       "    <tr>\n",
       "      <th>(Subject Age Group, Subject Age Group)</th>\n",
       "      <td>1.000000</td>\n",
       "    </tr>\n",
       "    <tr>\n",
       "      <th>(Reported Year, Terry Stop ID)</th>\n",
       "      <td>0.761114</td>\n",
       "    </tr>\n",
       "  </tbody>\n",
       "</table>\n",
       "</div>"
      ],
      "text/plain": [
       "                                              cc\n",
       "pairs                                           \n",
       "(Subject Age Group, Subject Age Group)  1.000000\n",
       "(Reported Year, Terry Stop ID)          0.761114"
      ]
     },
     "execution_count": 87,
     "metadata": {},
     "output_type": "execute_result"
    }
   ],
   "source": [
    "#making a copy of the data without the price -y value-\n",
    "stops_pred = stops.drop('Arrest Flag', axis = 1)\n",
    "\n",
    "#checking for significant correlations between predictors\n",
    "df=stops_pred.corr().abs().stack().reset_index().sort_values(0, ascending=False)\n",
    "\n",
    "# zip the variable name columns into a new column named \"pairs\"\n",
    "df['pairs'] = list(zip(df.level_0, df.level_1))\n",
    "\n",
    "# set index to pairs\n",
    "df.set_index(['pairs'], inplace = True)\n",
    "\n",
    "#d rop level columns\n",
    "df.drop(columns=['level_1', 'level_0'], inplace = True)\n",
    "\n",
    "# rename correlation column as cc rather than 0\n",
    "df.columns = ['cc']\n",
    "\n",
    "df.drop_duplicates(inplace=True)\n",
    "\n",
    "df[(df.cc>.75) & (df.cc <1.1)]"
   ]
  },
  {
   "cell_type": "code",
   "execution_count": 88,
   "metadata": {},
   "outputs": [
    {
     "data": {
      "text/html": [
       "<div>\n",
       "<style scoped>\n",
       "    .dataframe tbody tr th:only-of-type {\n",
       "        vertical-align: middle;\n",
       "    }\n",
       "\n",
       "    .dataframe tbody tr th {\n",
       "        vertical-align: top;\n",
       "    }\n",
       "\n",
       "    .dataframe thead th {\n",
       "        text-align: right;\n",
       "    }\n",
       "</style>\n",
       "<table border=\"1\" class=\"dataframe\">\n",
       "  <thead>\n",
       "    <tr style=\"text-align: right;\">\n",
       "      <th></th>\n",
       "      <th>Subject Age Group</th>\n",
       "      <th>Terry Stop ID</th>\n",
       "      <th>Stop Resolution</th>\n",
       "      <th>Weapon Type</th>\n",
       "      <th>Officer YOB</th>\n",
       "      <th>Officer Race</th>\n",
       "      <th>Subject Perceived Race</th>\n",
       "      <th>Arrest Flag</th>\n",
       "      <th>Frisk Flag</th>\n",
       "      <th>Officer Male</th>\n",
       "      <th>Subject Male</th>\n",
       "      <th>Reported Year</th>\n",
       "      <th>Reported Month</th>\n",
       "      <th>Reported Hour</th>\n",
       "    </tr>\n",
       "  </thead>\n",
       "  <tbody>\n",
       "    <tr>\n",
       "      <th>count</th>\n",
       "      <td>47055.000000</td>\n",
       "      <td>4.705500e+04</td>\n",
       "      <td>47055.000000</td>\n",
       "      <td>47055.000000</td>\n",
       "      <td>47055.000000</td>\n",
       "      <td>47055.000000</td>\n",
       "      <td>47055.000000</td>\n",
       "      <td>47055.000000</td>\n",
       "      <td>47055.000000</td>\n",
       "      <td>47055.000000</td>\n",
       "      <td>47055.000000</td>\n",
       "      <td>47055.00000</td>\n",
       "      <td>47055.000000</td>\n",
       "      <td>47055.000000</td>\n",
       "    </tr>\n",
       "    <tr>\n",
       "      <th>mean</th>\n",
       "      <td>3.273063</td>\n",
       "      <td>3.563128e+09</td>\n",
       "      <td>0.246648</td>\n",
       "      <td>0.058910</td>\n",
       "      <td>1983.007948</td>\n",
       "      <td>0.244629</td>\n",
       "      <td>0.511635</td>\n",
       "      <td>0.072213</td>\n",
       "      <td>0.224163</td>\n",
       "      <td>0.885559</td>\n",
       "      <td>0.783487</td>\n",
       "      <td>2017.59575</td>\n",
       "      <td>6.443184</td>\n",
       "      <td>12.768994</td>\n",
       "    </tr>\n",
       "    <tr>\n",
       "      <th>std</th>\n",
       "      <td>1.269406</td>\n",
       "      <td>6.227849e+09</td>\n",
       "      <td>0.431064</td>\n",
       "      <td>0.235458</td>\n",
       "      <td>8.793720</td>\n",
       "      <td>0.429871</td>\n",
       "      <td>0.499870</td>\n",
       "      <td>0.258844</td>\n",
       "      <td>0.417034</td>\n",
       "      <td>0.318349</td>\n",
       "      <td>0.411872</td>\n",
       "      <td>1.72854</td>\n",
       "      <td>3.358725</td>\n",
       "      <td>7.177147</td>\n",
       "    </tr>\n",
       "    <tr>\n",
       "      <th>min</th>\n",
       "      <td>1.000000</td>\n",
       "      <td>2.802000e+04</td>\n",
       "      <td>0.000000</td>\n",
       "      <td>0.000000</td>\n",
       "      <td>1946.000000</td>\n",
       "      <td>0.000000</td>\n",
       "      <td>0.000000</td>\n",
       "      <td>0.000000</td>\n",
       "      <td>0.000000</td>\n",
       "      <td>0.000000</td>\n",
       "      <td>0.000000</td>\n",
       "      <td>2015.00000</td>\n",
       "      <td>1.000000</td>\n",
       "      <td>1.000000</td>\n",
       "    </tr>\n",
       "    <tr>\n",
       "      <th>25%</th>\n",
       "      <td>2.000000</td>\n",
       "      <td>1.812635e+05</td>\n",
       "      <td>0.000000</td>\n",
       "      <td>0.000000</td>\n",
       "      <td>1978.000000</td>\n",
       "      <td>0.000000</td>\n",
       "      <td>0.000000</td>\n",
       "      <td>0.000000</td>\n",
       "      <td>0.000000</td>\n",
       "      <td>1.000000</td>\n",
       "      <td>1.000000</td>\n",
       "      <td>2016.00000</td>\n",
       "      <td>4.000000</td>\n",
       "      <td>6.000000</td>\n",
       "    </tr>\n",
       "    <tr>\n",
       "      <th>50%</th>\n",
       "      <td>3.000000</td>\n",
       "      <td>4.027170e+05</td>\n",
       "      <td>0.000000</td>\n",
       "      <td>0.000000</td>\n",
       "      <td>1985.000000</td>\n",
       "      <td>0.000000</td>\n",
       "      <td>1.000000</td>\n",
       "      <td>0.000000</td>\n",
       "      <td>0.000000</td>\n",
       "      <td>1.000000</td>\n",
       "      <td>1.000000</td>\n",
       "      <td>2018.00000</td>\n",
       "      <td>6.000000</td>\n",
       "      <td>14.000000</td>\n",
       "    </tr>\n",
       "    <tr>\n",
       "      <th>75%</th>\n",
       "      <td>4.000000</td>\n",
       "      <td>8.301896e+09</td>\n",
       "      <td>0.000000</td>\n",
       "      <td>0.000000</td>\n",
       "      <td>1990.000000</td>\n",
       "      <td>0.000000</td>\n",
       "      <td>1.000000</td>\n",
       "      <td>0.000000</td>\n",
       "      <td>0.000000</td>\n",
       "      <td>1.000000</td>\n",
       "      <td>1.000000</td>\n",
       "      <td>2019.00000</td>\n",
       "      <td>9.000000</td>\n",
       "      <td>19.000000</td>\n",
       "    </tr>\n",
       "    <tr>\n",
       "      <th>max</th>\n",
       "      <td>6.000000</td>\n",
       "      <td>2.275532e+10</td>\n",
       "      <td>1.000000</td>\n",
       "      <td>1.000000</td>\n",
       "      <td>1998.000000</td>\n",
       "      <td>1.000000</td>\n",
       "      <td>1.000000</td>\n",
       "      <td>1.000000</td>\n",
       "      <td>1.000000</td>\n",
       "      <td>1.000000</td>\n",
       "      <td>1.000000</td>\n",
       "      <td>2021.00000</td>\n",
       "      <td>12.000000</td>\n",
       "      <td>24.000000</td>\n",
       "    </tr>\n",
       "  </tbody>\n",
       "</table>\n",
       "</div>"
      ],
      "text/plain": [
       "       Subject Age Group  Terry Stop ID  Stop Resolution   Weapon Type  \\\n",
       "count       47055.000000   4.705500e+04     47055.000000  47055.000000   \n",
       "mean            3.273063   3.563128e+09         0.246648      0.058910   \n",
       "std             1.269406   6.227849e+09         0.431064      0.235458   \n",
       "min             1.000000   2.802000e+04         0.000000      0.000000   \n",
       "25%             2.000000   1.812635e+05         0.000000      0.000000   \n",
       "50%             3.000000   4.027170e+05         0.000000      0.000000   \n",
       "75%             4.000000   8.301896e+09         0.000000      0.000000   \n",
       "max             6.000000   2.275532e+10         1.000000      1.000000   \n",
       "\n",
       "        Officer YOB  Officer Race  Subject Perceived Race   Arrest Flag  \\\n",
       "count  47055.000000  47055.000000            47055.000000  47055.000000   \n",
       "mean    1983.007948      0.244629                0.511635      0.072213   \n",
       "std        8.793720      0.429871                0.499870      0.258844   \n",
       "min     1946.000000      0.000000                0.000000      0.000000   \n",
       "25%     1978.000000      0.000000                0.000000      0.000000   \n",
       "50%     1985.000000      0.000000                1.000000      0.000000   \n",
       "75%     1990.000000      0.000000                1.000000      0.000000   \n",
       "max     1998.000000      1.000000                1.000000      1.000000   \n",
       "\n",
       "         Frisk Flag  Officer Male  Subject Male  Reported Year  \\\n",
       "count  47055.000000  47055.000000  47055.000000    47055.00000   \n",
       "mean       0.224163      0.885559      0.783487     2017.59575   \n",
       "std        0.417034      0.318349      0.411872        1.72854   \n",
       "min        0.000000      0.000000      0.000000     2015.00000   \n",
       "25%        0.000000      1.000000      1.000000     2016.00000   \n",
       "50%        0.000000      1.000000      1.000000     2018.00000   \n",
       "75%        0.000000      1.000000      1.000000     2019.00000   \n",
       "max        1.000000      1.000000      1.000000     2021.00000   \n",
       "\n",
       "       Reported Month  Reported Hour  \n",
       "count    47055.000000   47055.000000  \n",
       "mean         6.443184      12.768994  \n",
       "std          3.358725       7.177147  \n",
       "min          1.000000       1.000000  \n",
       "25%          4.000000       6.000000  \n",
       "50%          6.000000      14.000000  \n",
       "75%          9.000000      19.000000  \n",
       "max         12.000000      24.000000  "
      ]
     },
     "execution_count": 88,
     "metadata": {},
     "output_type": "execute_result"
    }
   ],
   "source": [
    "stops.describe()"
   ]
  },
  {
   "cell_type": "code",
   "execution_count": 89,
   "metadata": {},
   "outputs": [
    {
     "data": {
      "text/plain": [
       "Text(0.5, 1, 'Arrest Flag Correlations')"
      ]
     },
     "execution_count": 89,
     "metadata": {},
     "output_type": "execute_result"
    },
    {
     "data": {
      "image/png": "[encoded data removed]",
      "text/plain": [
       "<Figure size 144x720 with 2 Axes>"
      ]
     },
     "metadata": {
      "needs_background": "light"
     },
     "output_type": "display_data"
    }
   ],
   "source": [
    "Corr = stops.corr()\n",
    "Corr_arrestflag = pd.DataFrame(Corr['Stop Resolution'])\n",
    "Corr_arrestflag.sort_values('Stop Resolution', ascending = False, inplace = True)\n",
    "\n",
    "#Create heatmap to represent driving values:\n",
    "fig = plt.figure(figsize=(2,10))\n",
    "sns.heatmap(Corr_arrestflag, annot=True)\n",
    "plt.title(\"Arrest Flag Correlations\")"
   ]
  },
  {
   "cell_type": "markdown",
   "metadata": {},
   "source": [
    "# Model"
   ]
  },
  {
   "cell_type": "markdown",
   "metadata": {},
   "source": [
    "## OLS"
   ]
  },
  {
   "cell_type": "code",
   "execution_count": 90,
   "metadata": {},
   "outputs": [],
   "source": [
    "stops_vars = stops[['Weapon Type', 'Subject Perceived Race', 'Subject Male', 'Subject Age Group', 'Frisk Flag']]\n",
    "y = stops['Stop Resolution']\n",
    "X = stops_vars.loc[:, stops_vars.columns != 'y']\n",
    "X_train,X_test,y_train,y_test=train_test_split(X,y,test_size=0.25)\n",
    "# Create an instance of the model. \n",
    "logreg = LogisticRegression() \n",
    "# Training the model. \n",
    "logreg.fit(X_train,y_train) \n",
    "# Do prediction. \n",
    "y_pred=logreg.predict(X_test)"
   ]
  },
  {
   "cell_type": "code",
   "execution_count": 91,
   "metadata": {},
   "outputs": [
    {
     "data": {
      "text/plain": [
       "array([[8819,    0],\n",
       "       [2945,    0]])"
      ]
     },
     "execution_count": 91,
     "metadata": {},
     "output_type": "execute_result"
    }
   ],
   "source": [
    "from sklearn import metrics \n",
    "cnf_matrix = metrics.confusion_matrix(y_test, y_pred)\n",
    "cnf_matrix"
   ]
  },
  {
   "cell_type": "code",
   "execution_count": 92,
   "metadata": {},
   "outputs": [
    {
     "name": "stdout",
     "output_type": "stream",
     "text": [
      "Accuracy: 0.749659979598776\n"
     ]
    }
   ],
   "source": [
    "print(\"Accuracy:\",metrics.accuracy_score(y_test, y_pred))\n"
   ]
  },
  {
   "cell_type": "code",
   "execution_count": 93,
   "metadata": {},
   "outputs": [
    {
     "name": "stdout",
     "output_type": "stream",
     "text": [
      "Optimization terminated successfully.\n",
      "         Current function value: 0.562839\n",
      "         Iterations 5\n",
      "                           Logit Regression Results                           \n",
      "==============================================================================\n",
      "Dep. Variable:        Stop Resolution   No. Observations:                47055\n",
      "Model:                          Logit   Df Residuals:                    47050\n",
      "Method:                           MLE   Df Model:                            4\n",
      "Date:                Sat, 11 Dec 2021   Pseudo R-squ.:               -0.007550\n",
      "Time:                        10:29:19   Log-Likelihood:                -26484.\n",
      "converged:                       True   LL-Null:                       -26286.\n",
      "Covariance Type:            nonrobust   LLR p-value:                     1.000\n",
      "==========================================================================================\n",
      "                             coef    std err          z      P>|z|      [0.025      0.975]\n",
      "------------------------------------------------------------------------------------------\n",
      "Weapon Type                0.5545      0.044     12.628      0.000       0.468       0.641\n",
      "Subject Perceived Race    -0.2461      0.020    -12.337      0.000      -0.285      -0.207\n",
      "Subject Male              -0.4098      0.023    -18.036      0.000      -0.454      -0.365\n",
      "Subject Age Group         -0.2280      0.006    -39.012      0.000      -0.239      -0.217\n",
      "Frisk Flag                 0.5237      0.026     19.880      0.000       0.472       0.575\n",
      "==========================================================================================\n"
     ]
    }
   ],
   "source": [
    "logit_model=sm.Logit(y,X)\n",
    "result=logit_model.fit()\n",
    "print(result.summary())"
   ]
  },
  {
   "cell_type": "code",
   "execution_count": 94,
   "metadata": {},
   "outputs": [
    {
     "data": {
      "text/plain": [
       "Index(['Weapon Type', 'Subject Perceived Race', 'Subject Male',\n",
       "       'Subject Age Group', 'Frisk Flag'],\n",
       "      dtype='object')"
      ]
     },
     "execution_count": 94,
     "metadata": {},
     "output_type": "execute_result"
    }
   ],
   "source": [
    "X.columns"
   ]
  },
  {
   "cell_type": "code",
   "execution_count": 95,
   "metadata": {},
   "outputs": [],
   "source": [
    "model_predictors = pd.DataFrame([])\n",
    "model_predictors['Weapon Type'] = stops['Weapon Type']\n",
    "model_predictors['Subject Perceived Race'] = stops['Subject Perceived Race']\n",
    "model_predictors['Subject Male'] = stops['Subject Male']\n",
    "model_predictors['Subject Age Group'] = stops['Subject Age Group']\n",
    "model_predictors['Frisk Flag'] = stops['Frisk Flag']"
   ]
  },
  {
   "cell_type": "code",
   "execution_count": 96,
   "metadata": {},
   "outputs": [
    {
     "data": {
      "text/plain": [
       "{'Weapon Type': array([0.52725645, 0.05771345, 0.03070671, 0.01638165, 0.61449201])}"
      ]
     },
     "execution_count": 96,
     "metadata": {},
     "output_type": "execute_result"
    }
   ],
   "source": [
    "model = logreg.fit(X, y)\n",
    "\n",
    "#Create dictionary matching variable names to their corresponding coeffs\n",
    "var_coefs = dict(zip(model_predictors.columns, model.coef_))\n",
    "\n",
    "#Display variable names and coeffs\n",
    "var_coefs"
   ]
  },
  {
   "cell_type": "code",
   "execution_count": 97,
   "metadata": {},
   "outputs": [
    {
     "data": {
      "text/plain": [
       "array([-1.41783191])"
      ]
     },
     "execution_count": 97,
     "metadata": {},
     "output_type": "execute_result"
    }
   ],
   "source": [
    "model.intercept_"
   ]
  },
  {
   "cell_type": "code",
   "execution_count": 98,
   "metadata": {},
   "outputs": [
    {
     "data": {
      "text/html": [
       "<div>\n",
       "<style scoped>\n",
       "    .dataframe tbody tr th:only-of-type {\n",
       "        vertical-align: middle;\n",
       "    }\n",
       "\n",
       "    .dataframe tbody tr th {\n",
       "        vertical-align: top;\n",
       "    }\n",
       "\n",
       "    .dataframe thead th {\n",
       "        text-align: right;\n",
       "    }\n",
       "</style>\n",
       "<table border=\"1\" class=\"dataframe\">\n",
       "  <thead>\n",
       "    <tr style=\"text-align: right;\">\n",
       "      <th></th>\n",
       "      <th>Weapon Type</th>\n",
       "      <th>Subject Perceived Race</th>\n",
       "      <th>Subject Male</th>\n",
       "      <th>Subject Age Group</th>\n",
       "      <th>Frisk Flag</th>\n",
       "    </tr>\n",
       "  </thead>\n",
       "  <tbody>\n",
       "    <tr>\n",
       "      <th>47050</th>\n",
       "      <td>0</td>\n",
       "      <td>1</td>\n",
       "      <td>1</td>\n",
       "      <td>6</td>\n",
       "      <td>0</td>\n",
       "    </tr>\n",
       "    <tr>\n",
       "      <th>47051</th>\n",
       "      <td>0</td>\n",
       "      <td>1</td>\n",
       "      <td>1</td>\n",
       "      <td>6</td>\n",
       "      <td>0</td>\n",
       "    </tr>\n",
       "    <tr>\n",
       "      <th>47052</th>\n",
       "      <td>0</td>\n",
       "      <td>1</td>\n",
       "      <td>1</td>\n",
       "      <td>6</td>\n",
       "      <td>1</td>\n",
       "    </tr>\n",
       "    <tr>\n",
       "      <th>47053</th>\n",
       "      <td>0</td>\n",
       "      <td>0</td>\n",
       "      <td>1</td>\n",
       "      <td>6</td>\n",
       "      <td>0</td>\n",
       "    </tr>\n",
       "    <tr>\n",
       "      <th>47054</th>\n",
       "      <td>1</td>\n",
       "      <td>1</td>\n",
       "      <td>1</td>\n",
       "      <td>6</td>\n",
       "      <td>1</td>\n",
       "    </tr>\n",
       "  </tbody>\n",
       "</table>\n",
       "</div>"
      ],
      "text/plain": [
       "       Weapon Type  Subject Perceived Race  Subject Male  Subject Age Group  \\\n",
       "47050            0                       1             1                  6   \n",
       "47051            0                       1             1                  6   \n",
       "47052            0                       1             1                  6   \n",
       "47053            0                       0             1                  6   \n",
       "47054            1                       1             1                  6   \n",
       "\n",
       "       Frisk Flag  \n",
       "47050           0  \n",
       "47051           0  \n",
       "47052           1  \n",
       "47053           0  \n",
       "47054           1  "
      ]
     },
     "execution_count": 98,
     "metadata": {},
     "output_type": "execute_result"
    }
   ],
   "source": [
    "model_predictors.tail()"
   ]
  },
  {
   "cell_type": "code",
   "execution_count": 99,
   "metadata": {},
   "outputs": [],
   "source": [
    "def arrest_prediction():\n",
    "   \n",
    "    arrest = model.intercept_\n",
    "    \n",
    "#Weapon Present      \n",
    "    weapon = input(\"Weapon Present?\")\n",
    "    weapon_v = 0.52725645 * (float(weapon))\n",
    "    arrest += weapon_v\n",
    "    \n",
    "#Subject Race \n",
    "    srace = input(\"Subject Race?\")\n",
    "    srace_v = 0.05771345 * (float(srace))\n",
    "    arrest += srace_v\n",
    "\n",
    "#Subject Percieved Gender \n",
    "    sgender = input(\"Subject gender?\")\n",
    "    sgender_v = 0.03070671 * (float(sgender))\n",
    "    arrest += sgender_v\n",
    "\n",
    "#Subject Age Group\n",
    "    sage = input(\"Subject Age Group?\")\n",
    "    sage_v = 0.01638165 * (float(sage))\n",
    "    arrest += sage_v\n",
    "\n",
    "#Frisk Flag  \n",
    "    frisk = input(\"Frisk flag?\")\n",
    "    frisk_v = 0.61449201 * (float(frisk))\n",
    "    arrest += frisk_v\n",
    "    \n",
    "   \n",
    "    \n",
    "    \n",
    "\n",
    "    return 'The likelihood of arrest is {}'.format((arrest))"
   ]
  },
  {
   "cell_type": "markdown",
   "metadata": {},
   "source": [
    "## Variable Key\n",
    "- Weapon Present? \n",
    "    - 1 = Yes \n",
    "    - 0 = No\n",
    "- Subject Race: \n",
    "    - 0 = White \n",
    "    - 1 = Non-white \n",
    "- Subject Gender \n",
    "    - 0 = Non-Male \n",
    "    - 1 = Male \n",
    "- Subject Age Group \n",
    "    - 1 = 1 - 17\n",
    "    - 2 = 18 - 25\n",
    "    - 3 = 26 - 35\n",
    "    - 4 = 36 - 45\n",
    "    - 5 = 46 - 55\n",
    "    - 6 = 55 - 74\n",
    "- Frisk Flag \n",
    "    - 0 = No \n",
    "    - 1 = Yes"
   ]
  },
  {
   "cell_type": "code",
   "execution_count": 100,
   "metadata": {},
   "outputs": [
    {
     "name": "stdout",
     "output_type": "stream",
     "text": [
      "Weapon Present?1\n",
      "Subject Race?1\n",
      "Subject gender?1\n",
      "Subject Age Group?1\n",
      "Frisk flag?1\n"
     ]
    },
    {
     "data": {
      "text/plain": [
       "'The likelihood of arrest is [-0.17128164]'"
      ]
     },
     "execution_count": 100,
     "metadata": {},
     "output_type": "execute_result"
    }
   ],
   "source": [
    "arrest_prediction()"
   ]
  },
  {
   "cell_type": "markdown",
   "metadata": {},
   "source": [
    "### Question \n",
    "- Is there a way to put marginalized demographics up against demographic least likely to be arrested? (Separate out demographics based on arrest liklihood) "
   ]
  },
  {
   "cell_type": "markdown",
   "metadata": {},
   "source": [
    "## Random Forest  "
   ]
  },
  {
   "cell_type": "code",
   "execution_count": 109,
   "metadata": {},
   "outputs": [],
   "source": [
    "#Splitting data into train and test: \n",
    "X = stops.loc[:, ['Subject Age Group', 'Stop Resolution', 'Weapon Type', 'Subject Male']]\n",
    "y = stops.loc[:, ['Arrest Flag']]\n",
    "X_train, X_test, y_train, y_test = train_test_split(X, y, test_size = 0.3, random_state = 42)"
   ]
  },
  {
   "cell_type": "code",
   "execution_count": 112,
   "metadata": {},
   "outputs": [],
   "source": [
    "# One-hot encode the training data:\n",
    "from sklearn.preprocessing import OneHotEncoder\n",
    "ohe = OneHotEncoder()\n",
    "\n",
    "ohe.fit(X_train)\n",
    "X_train_ohe = ohe.transform(X_train).toarray()\n",
    "X_test_ohe = ohe.transform(X_test).toarray()\n",
    "\n",
    "# Create a dataframe with both training and testing data to be used later:\n",
    "ohe_stops1 = pd.DataFrame(X_train_ohe, columns=ohe.get_feature_names(X_train.columns))\n",
    "ohe_stops2 = pd.DataFrame(X_test_ohe, columns=ohe.get_feature_names(X_test.columns))\n",
    "ohe_stops = pd.concat([ohe_stops1,ohe_stops2])"
   ]
  },
  {
   "cell_type": "code",
   "execution_count": 122,
   "metadata": {},
   "outputs": [],
   "source": [
    "from sklearn.metrics import accuracy_score,confusion_matrix,roc_curve, auc, f1_score, classification_report\n",
    "\n",
    "def confusion_matrix_plot(cm, classes,\n",
    "                          normalize=False,\n",
    "                          title='Confusion matrix',\n",
    "                          cmap=plt.cm.Blues):\n",
    "    plt.imshow(cm, interpolation='nearest', cmap=cmap)\n",
    "    \n",
    "    # Add title and labels:\n",
    "    plt.title(title)\n",
    "    plt.ylabel('True label')\n",
    "    plt.xlabel('Predicted label')\n",
    "    \n",
    "    # Add axis scales and tick marks:\n",
    "    tick_marks = np.arange(len(classes))\n",
    "    plt.xticks(tick_marks, classes, rotation=45)\n",
    "    plt.yticks(tick_marks, classes)\n",
    "    \n",
    "    # Add labels to each cell:\n",
    "    thresh = cm.max() / 2.\n",
    "    # Iterate through confusion matrix and append labels to the plot:\n",
    "    for i, j in itertools.product(range(cm.shape[0]), range(cm.shape[1])):\n",
    "        plt.text(j, i, cm[i, j],\n",
    "                 horizontalalignment='center',\n",
    "                 color='white' if cm[i, j] > thresh else 'black')\n",
    "        \n",
    "    # Add legend:\n",
    "    plt.colorbar()\n",
    "    plt.show()\n",
    "    \n",
    "# Use Arrested and Not Arrested for 0 and 1 classes \n",
    "class_names = ['Arrested','Not Arrested']"
   ]
  },
  {
   "cell_type": "code",
   "execution_count": 123,
   "metadata": {},
   "outputs": [
    {
     "name": "stderr",
     "output_type": "stream",
     "text": [
      "/Users/molly/opt/anaconda3/lib/python3.7/site-packages/ipykernel_launcher.py:4: DataConversionWarning: A column-vector y was passed when a 1d array was expected. Please change the shape of y to (n_samples,), for example using ravel().\n",
      "  after removing the cwd from sys.path.\n"
     ]
    },
    {
     "name": "stdout",
     "output_type": "stream",
     "text": [
      "Random Forest Accuracy:  92.86675639300135 %\n",
      "              precision    recall  f1-score   support\n",
      "\n",
      "           0       0.93      1.00      0.96     13110\n",
      "           1       0.50      0.00      0.01      1007\n",
      "\n",
      "    accuracy                           0.93     14117\n",
      "   macro avg       0.71      0.50      0.48     14117\n",
      "weighted avg       0.90      0.93      0.89     14117\n",
      "\n"
     ]
    },
    {
     "data": {
      "image/png": "[encoded data removed]",
      "text/plain": [
       "<Figure size 432x288 with 2 Axes>"
      ]
     },
     "metadata": {
      "needs_background": "light"
     },
     "output_type": "display_data"
    }
   ],
   "source": [
    "# Create the classifier, fit it on the training data and make predictions on the test set:\n",
    "rforest = RandomForestClassifier(n_estimators=80, criterion = 'gini',max_depth=None, max_features=5, \n",
    "                                 min_samples_split=5)\n",
    "rforest.fit(X_train_ohe, y_train)\n",
    "y_pred = rforest.predict(X_test_ohe)\n",
    "\n",
    "# Check the Accuracy:\n",
    "print('Random Forest Accuracy: ', accuracy_score(y_test, y_pred)*100,'%')\n",
    "\n",
    "# Print classification report:\n",
    "print(classification_report(y_test, y_pred))\n",
    "\n",
    "# Confusion Matrix for Random Forest:\n",
    "cm_forest = confusion_matrix(y_test,y_pred)\n",
    "confusion_matrix_plot(cm_forest, classes=class_names, title='Random Forest Confusion Matrix')"
   ]
  },
  {
   "cell_type": "markdown",
   "metadata": {},
   "source": [
    "## K-Nearest Neighbors"
   ]
  },
  {
   "cell_type": "code",
   "execution_count": 125,
   "metadata": {},
   "outputs": [
    {
     "name": "stdout",
     "output_type": "stream",
     "text": [
      "Best Value for k: 17\n",
      "Accuracy Score: 0.9261882836296663\n",
      "None\n"
     ]
    }
   ],
   "source": [
    "def find_best_k(X_train, y_train, X_test, y_test, min_k=1, max_k=25):\n",
    "    best_k = 0\n",
    "    best_score = 0.0\n",
    "    for k in range(min_k, max_k+1,2):\n",
    "        knn = KNeighborsClassifier(n_neighbors=k, algorithm='brute')\n",
    "        knn.fit(X_train, y_train.values.ravel())\n",
    "        preds = knn.predict(X_test)\n",
    "        accuracy = accuracy_score(y_test, preds)\n",
    "        if accuracy > best_score:\n",
    "            best_k = k\n",
    "            best_score = accuracy\n",
    "    \n",
    "    print(\"Best Value for k: {}\".format(best_k))\n",
    "    print(\"Accuracy Score: {}\".format(best_score))\n",
    "    \n",
    "print(find_best_k(X_train_ohe, y_train, X_test_ohe, y_test))"
   ]
  },
  {
   "cell_type": "code",
   "execution_count": null,
   "metadata": {},
   "outputs": [],
   "source": []
  }
 ],
 "metadata": {
  "kernelspec": {
   "display_name": "Python 3",
   "language": "python",
   "name": "python3"
  },
  "language_info": {
   "codemirror_mode": {
    "name": "ipython",
    "version": 3
   },
   "file_extension": ".py",
   "mimetype": "text/x-python",
   "name": "python",
   "nbconvert_exporter": "python",
   "pygments_lexer": "ipython3",
   "version": "3.7.6"
  }
 },
 "nbformat": 4,
 "nbformat_minor": 4
}
